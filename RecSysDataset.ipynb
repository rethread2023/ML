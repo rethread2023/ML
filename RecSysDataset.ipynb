{
 "cells": [
  {
   "cell_type": "code",
   "execution_count": 14,
   "id": "0bc21194",
   "metadata": {},
   "outputs": [],
   "source": [
    "import pandas as pd\n",
    "import random\n",
    "import os\n",
    "import numpy as np"
   ]
  },
  {
   "cell_type": "code",
   "execution_count": 15,
   "id": "837cbf2b",
   "metadata": {},
   "outputs": [
    {
     "name": "stdout",
     "output_type": "stream",
     "text": [
      "      id gender masterCategory subCategory  articleType baseColour  season  \\\n",
      "0  15970    Men        Apparel     Topwear       Shirts  Navy Blue    Fall   \n",
      "1  39386    Men        Apparel  Bottomwear        Jeans       Blue  Summer   \n",
      "2  59263  Women    Accessories     Watches      Watches     Silver  Winter   \n",
      "3  21379    Men        Apparel  Bottomwear  Track Pants      Black    Fall   \n",
      "4  53759    Men        Apparel     Topwear      Tshirts       Grey  Summer   \n",
      "\n",
      "     year   usage                             productDisplayName  \n",
      "0  2011.0  Casual               Turtle Check Men Navy Blue Shirt  \n",
      "1  2012.0  Casual             Peter England Men Party Blue Jeans  \n",
      "2  2016.0  Casual                       Titan Women Silver Watch  \n",
      "3  2011.0  Casual  Manchester United Men Solid Black Track Pants  \n",
      "4  2012.0  Casual                          Puma Men Grey T-shirt  \n"
     ]
    }
   ],
   "source": [
    "# Path to the CSV file\n",
    "csv_file_path = './csv_files/FashionProductImages.csv'\n",
    "image_folder = './mytradataset/images/'\n",
    "\n",
    "# Read the CSV file into a DataFrame\n",
    "seller_df = pd.read_csv(csv_file_path, on_bad_lines='skip')\n",
    "\n",
    "# Display the first few rows of the DataFrame\n",
    "print(seller_df.head())"
   ]
  },
  {
   "cell_type": "code",
   "execution_count": 16,
   "id": "ea8bf102",
   "metadata": {},
   "outputs": [
    {
     "name": "stdout",
     "output_type": "stream",
     "text": [
      "      id gender masterCategory subCategory  articleType baseColour  season  \\\n",
      "0  15970    Men        Apparel     Topwear       Shirts  Navy Blue    Fall   \n",
      "1  39386    Men        Apparel  Bottomwear        Jeans       Blue  Summer   \n",
      "2  59263  Women    Accessories     Watches      Watches     Silver  Winter   \n",
      "3  21379    Men        Apparel  Bottomwear  Track Pants      Black    Fall   \n",
      "4  53759    Men        Apparel     Topwear      Tshirts       Grey  Summer   \n",
      "\n",
      "     year   usage                             productDisplayName  seller_id  \\\n",
      "0  2011.0  Casual               Turtle Check Men Navy Blue Shirt        148   \n",
      "1  2012.0  Casual             Peter England Men Party Blue Jeans         24   \n",
      "2  2016.0  Casual                       Titan Women Silver Watch        173   \n",
      "3  2011.0  Casual  Manchester United Men Solid Black Track Pants        191   \n",
      "4  2012.0  Casual                          Puma Men Grey T-shirt        166   \n",
      "\n",
      "     status  \n",
      "0  for sale  \n",
      "1  for sale  \n",
      "2  for sale  \n",
      "3  for sale  \n",
      "4      sold  \n"
     ]
    }
   ],
   "source": [
    "# Generate random seller IDs\n",
    "seller_df['seller_id'] = np.random.randint(1, 201, size=len(seller_df))\n",
    "\n",
    "status_values = ['sold', 'for sale']\n",
    "seller_df['status'] = np.random.choice(status_values, size=len(seller_df), p=[0.3, 0.7])\n",
    "print(seller_df.head())"
   ]
  },
  {
   "cell_type": "code",
   "execution_count": 17,
   "id": "8c59d584",
   "metadata": {},
   "outputs": [
    {
     "name": "stdout",
     "output_type": "stream",
     "text": [
      "id                    44424\n",
      "gender                    5\n",
      "masterCategory            7\n",
      "subCategory              45\n",
      "articleType             143\n",
      "baseColour               46\n",
      "season                    4\n",
      "year                     13\n",
      "usage                     8\n",
      "productDisplayName    31121\n",
      "seller_id               200\n",
      "status                    2\n",
      "dtype: int64\n"
     ]
    }
   ],
   "source": [
    "print(seller_df.nunique())"
   ]
  },
  {
   "cell_type": "code",
   "execution_count": 18,
   "id": "bf7853d6",
   "metadata": {},
   "outputs": [
    {
     "data": {
      "text/plain": [
       "13425.0"
      ]
     },
     "execution_count": 18,
     "metadata": {},
     "output_type": "execute_result"
    }
   ],
   "source": [
    "pd.Series(seller_df['status'] == 'sold', dtype=\"float64\").sum()"
   ]
  },
  {
   "cell_type": "code",
   "execution_count": 19,
   "id": "26451ade",
   "metadata": {
    "scrolled": true
   },
   "outputs": [
    {
     "name": "stdout",
     "output_type": "stream",
     "text": [
      "id                      0\n",
      "gender                  0\n",
      "masterCategory          0\n",
      "subCategory             0\n",
      "articleType             0\n",
      "baseColour             15\n",
      "season                 21\n",
      "year                    1\n",
      "usage                 317\n",
      "productDisplayName      7\n",
      "seller_id               0\n",
      "status                  0\n",
      "dtype: int64\n"
     ]
    }
   ],
   "source": [
    "# Count how many empty values\n",
    "def count_empty_values(df):\n",
    "    empty_counts = df.isna().sum()\n",
    "    return empty_counts\n",
    "\n",
    "df = pd.DataFrame(seller_df)\n",
    "empty_counts = count_empty_values(df)\n",
    "\n",
    "print(empty_counts)"
   ]
  },
  {
   "cell_type": "code",
   "execution_count": 20,
   "id": "8056c9a1",
   "metadata": {},
   "outputs": [],
   "source": [
    "def delete_rows_with_nan(df_del, attribute):\n",
    "    df_del = df_del.dropna(subset=[attribute])\n",
    "    return df_del\n",
    "\n",
    "df_del = pd.DataFrame(seller_df)\n",
    "\n",
    "# Delete rows where 'productDisplayName' contains NaN\n",
    "attribute_to_check = 'productDisplayName'\n",
    "seller_df = delete_rows_with_nan(df_del, attribute_to_check)"
   ]
  },
  {
   "cell_type": "code",
   "execution_count": 21,
   "id": "337a587c",
   "metadata": {},
   "outputs": [
    {
     "name": "stdout",
     "output_type": "stream",
     "text": [
      "id                      0\n",
      "gender                  0\n",
      "masterCategory          0\n",
      "subCategory             0\n",
      "articleType             0\n",
      "baseColour             10\n",
      "season                 21\n",
      "year                    1\n",
      "usage                 312\n",
      "productDisplayName      0\n",
      "seller_id               0\n",
      "status                  0\n",
      "dtype: int64\n"
     ]
    }
   ],
   "source": [
    "# Re-check if the NaN values from the 'productDisplayName' attribute is deleted\n",
    "df = pd.DataFrame(seller_df)\n",
    "empty_counts = count_empty_values(df)\n",
    "print(empty_counts)"
   ]
  },
  {
   "cell_type": "code",
   "execution_count": 22,
   "id": "ccc3b4ff",
   "metadata": {},
   "outputs": [
    {
     "name": "stdout",
     "output_type": "stream",
     "text": [
      "       user_id  fashion_id  rating  rated_sellers_id\n",
      "0          451       53759     3.0               166\n",
      "1          469        1855     2.6                46\n",
      "2          424       12369     1.8               199\n",
      "3          318       29928     2.9                30\n",
      "4          355        7990     2.9               102\n",
      "...        ...         ...     ...               ...\n",
      "13419      284        4336     2.0                31\n",
      "13420      308       37431     2.9               187\n",
      "13421      345       55283     4.8                45\n",
      "13422      181       42234     1.2                23\n",
      "13423      364       18842     4.5               182\n",
      "\n",
      "[13424 rows x 4 columns]\n"
     ]
    }
   ],
   "source": [
    "# Filter 'sold' items from 'seller' DataFrame\n",
    "sold_items = seller_df[seller_df['status'] == 'sold']\n",
    "\n",
    "# Get the number of 'sold' items\n",
    "num_sold_items = len(sold_items)\n",
    "\n",
    "rate = np.random.uniform(low=0.0, high=5.0, size=num_sold_items)\n",
    "rounded_ratings = np.round(rate, decimals=1)\n",
    "\n",
    "# Generate 'rating' dataset based on 'sold' items\n",
    "rating_data = {\n",
    "    'user_id': np.random.choice(range(1, 501), size=num_sold_items, replace=True),\n",
    "    'fashion_id': sold_items['id'].tolist(),\n",
    "    'rating': rounded_ratings,\n",
    "    'rated_sellers_id': sold_items['seller_id'].tolist()\n",
    "}\n",
    "\n",
    "rating_df = pd.DataFrame(rating_data)\n",
    "\n",
    "print(rating_df)"
   ]
  },
  {
   "cell_type": "code",
   "execution_count": 23,
   "id": "31edd59b",
   "metadata": {},
   "outputs": [],
   "source": [
    "# Count occurrences of each unique value in 'seller_id' label\n",
    "seller_counts = rating_df['rated_sellers_id'].value_counts()\n",
    "\n",
    "# Insert 'total_reviewers' label to 'seller_df'\n",
    "seller_df_copy = seller_df.copy()\n",
    "seller_df_copy['total_reviewers'] = seller_df['seller_id'].map(seller_counts)\n",
    "seller_df = seller_df_copy\n",
    "# seller_df.loc[:, 'total_reviewers'] = seller_df['seller_id'].map(seller_counts)\n",
    "# seller_df['total_reviewers'] = seller_df['seller_id'].map(seller_counts)"
   ]
  },
  {
   "cell_type": "code",
   "execution_count": 24,
   "id": "3f64b7cd",
   "metadata": {},
   "outputs": [
    {
     "name": "stdout",
     "output_type": "stream",
     "text": [
      "          id gender masterCategory subCategory            articleType  \\\n",
      "0      15970    Men        Apparel     Topwear                 Shirts   \n",
      "1      39386    Men        Apparel  Bottomwear                  Jeans   \n",
      "2      59263  Women    Accessories     Watches                Watches   \n",
      "3      21379    Men        Apparel  Bottomwear            Track Pants   \n",
      "4      53759    Men        Apparel     Topwear                Tshirts   \n",
      "...      ...    ...            ...         ...                    ...   \n",
      "44419  17036    Men       Footwear       Shoes           Casual Shoes   \n",
      "44420   6461    Men       Footwear  Flip Flops             Flip Flops   \n",
      "44421  18842    Men        Apparel     Topwear                Tshirts   \n",
      "44422  46694  Women  Personal Care   Fragrance  Perfume and Body Mist   \n",
      "44423  51623  Women    Accessories     Watches                Watches   \n",
      "\n",
      "      baseColour  season    year   usage  \\\n",
      "0      Navy Blue    Fall  2011.0  Casual   \n",
      "1           Blue  Summer  2012.0  Casual   \n",
      "2         Silver  Winter  2016.0  Casual   \n",
      "3          Black    Fall  2011.0  Casual   \n",
      "4           Grey  Summer  2012.0  Casual   \n",
      "...          ...     ...     ...     ...   \n",
      "44419      White  Summer  2013.0  Casual   \n",
      "44420        Red  Summer  2011.0  Casual   \n",
      "44421       Blue    Fall  2011.0  Casual   \n",
      "44422       Blue  Spring  2017.0  Casual   \n",
      "44423       Pink  Winter  2016.0  Casual   \n",
      "\n",
      "                                    productDisplayName  seller_id    status  \\\n",
      "0                     Turtle Check Men Navy Blue Shirt        148  for sale   \n",
      "1                   Peter England Men Party Blue Jeans         24  for sale   \n",
      "2                             Titan Women Silver Watch        173  for sale   \n",
      "3        Manchester United Men Solid Black Track Pants        191  for sale   \n",
      "4                                Puma Men Grey T-shirt        166      sold   \n",
      "...                                                ...        ...       ...   \n",
      "44419                        Gas Men Caddy Casual Shoe        100  for sale   \n",
      "44420               Lotto Men's Soccer Track Flip Flop        141  for sale   \n",
      "44421             Puma Men Graphic Stellar Blue Tshirt        182      sold   \n",
      "44422                   Rasasi Women Blue Lady Perfume        200  for sale   \n",
      "44423  Fossil Women Pink Dial Chronograph Watch ES3050        163  for sale   \n",
      "\n",
      "       total_reviewers  average_rating  \n",
      "0                   66             2.3  \n",
      "1                   68             2.4  \n",
      "2                   55             2.5  \n",
      "3                   70             2.3  \n",
      "4                   80             2.5  \n",
      "...                ...             ...  \n",
      "44419               68             2.4  \n",
      "44420               84             2.4  \n",
      "44421               76             2.6  \n",
      "44422               66             2.6  \n",
      "44423               65             2.5  \n",
      "\n",
      "[44417 rows x 14 columns]\n"
     ]
    }
   ],
   "source": [
    "# Calculate average rating for each seller_id\n",
    "average_ratings = rating_df.groupby('rated_sellers_id')['rating'].mean()\n",
    "rounded_ratings = np.round(average_ratings, decimals=1)\n",
    "\n",
    "# Add 'average_rating' label to 'seller' DataFrame\n",
    "seller_df['average_rating'] = rounded_ratings[seller_df['seller_id']].values\n",
    "\n",
    "print(seller_df)"
   ]
  },
  {
   "cell_type": "code",
   "execution_count": 25,
   "id": "707ed411",
   "metadata": {},
   "outputs": [],
   "source": [
    "def get_image_path(row):\n",
    "    image_id = row['id']\n",
    "    image_path = os.path.join(image_folder, str(image_id) + '.jpg')\n",
    "    return image_path"
   ]
  },
  {
   "cell_type": "code",
   "execution_count": 26,
   "id": "096411be",
   "metadata": {},
   "outputs": [
    {
     "data": {
      "text/html": [
       "<div>\n",
       "<style scoped>\n",
       "    .dataframe tbody tr th:only-of-type {\n",
       "        vertical-align: middle;\n",
       "    }\n",
       "\n",
       "    .dataframe tbody tr th {\n",
       "        vertical-align: top;\n",
       "    }\n",
       "\n",
       "    .dataframe thead th {\n",
       "        text-align: right;\n",
       "    }\n",
       "</style>\n",
       "<table border=\"1\" class=\"dataframe\">\n",
       "  <thead>\n",
       "    <tr style=\"text-align: right;\">\n",
       "      <th></th>\n",
       "      <th>id</th>\n",
       "      <th>gender</th>\n",
       "      <th>masterCategory</th>\n",
       "      <th>subCategory</th>\n",
       "      <th>articleType</th>\n",
       "      <th>baseColour</th>\n",
       "      <th>season</th>\n",
       "      <th>year</th>\n",
       "      <th>usage</th>\n",
       "      <th>productDisplayName</th>\n",
       "      <th>seller_id</th>\n",
       "      <th>status</th>\n",
       "      <th>total_reviewers</th>\n",
       "      <th>average_rating</th>\n",
       "      <th>image_path</th>\n",
       "    </tr>\n",
       "  </thead>\n",
       "  <tbody>\n",
       "    <tr>\n",
       "      <th>0</th>\n",
       "      <td>15970</td>\n",
       "      <td>Men</td>\n",
       "      <td>Apparel</td>\n",
       "      <td>Topwear</td>\n",
       "      <td>Shirts</td>\n",
       "      <td>Navy Blue</td>\n",
       "      <td>Fall</td>\n",
       "      <td>2011.0</td>\n",
       "      <td>Casual</td>\n",
       "      <td>Turtle Check Men Navy Blue Shirt</td>\n",
       "      <td>148</td>\n",
       "      <td>for sale</td>\n",
       "      <td>66</td>\n",
       "      <td>2.3</td>\n",
       "      <td>./mytradataset/images/15970.jpg</td>\n",
       "    </tr>\n",
       "    <tr>\n",
       "      <th>1</th>\n",
       "      <td>39386</td>\n",
       "      <td>Men</td>\n",
       "      <td>Apparel</td>\n",
       "      <td>Bottomwear</td>\n",
       "      <td>Jeans</td>\n",
       "      <td>Blue</td>\n",
       "      <td>Summer</td>\n",
       "      <td>2012.0</td>\n",
       "      <td>Casual</td>\n",
       "      <td>Peter England Men Party Blue Jeans</td>\n",
       "      <td>24</td>\n",
       "      <td>for sale</td>\n",
       "      <td>68</td>\n",
       "      <td>2.4</td>\n",
       "      <td>./mytradataset/images/39386.jpg</td>\n",
       "    </tr>\n",
       "    <tr>\n",
       "      <th>2</th>\n",
       "      <td>59263</td>\n",
       "      <td>Women</td>\n",
       "      <td>Accessories</td>\n",
       "      <td>Watches</td>\n",
       "      <td>Watches</td>\n",
       "      <td>Silver</td>\n",
       "      <td>Winter</td>\n",
       "      <td>2016.0</td>\n",
       "      <td>Casual</td>\n",
       "      <td>Titan Women Silver Watch</td>\n",
       "      <td>173</td>\n",
       "      <td>for sale</td>\n",
       "      <td>55</td>\n",
       "      <td>2.5</td>\n",
       "      <td>./mytradataset/images/59263.jpg</td>\n",
       "    </tr>\n",
       "    <tr>\n",
       "      <th>3</th>\n",
       "      <td>21379</td>\n",
       "      <td>Men</td>\n",
       "      <td>Apparel</td>\n",
       "      <td>Bottomwear</td>\n",
       "      <td>Track Pants</td>\n",
       "      <td>Black</td>\n",
       "      <td>Fall</td>\n",
       "      <td>2011.0</td>\n",
       "      <td>Casual</td>\n",
       "      <td>Manchester United Men Solid Black Track Pants</td>\n",
       "      <td>191</td>\n",
       "      <td>for sale</td>\n",
       "      <td>70</td>\n",
       "      <td>2.3</td>\n",
       "      <td>./mytradataset/images/21379.jpg</td>\n",
       "    </tr>\n",
       "    <tr>\n",
       "      <th>4</th>\n",
       "      <td>53759</td>\n",
       "      <td>Men</td>\n",
       "      <td>Apparel</td>\n",
       "      <td>Topwear</td>\n",
       "      <td>Tshirts</td>\n",
       "      <td>Grey</td>\n",
       "      <td>Summer</td>\n",
       "      <td>2012.0</td>\n",
       "      <td>Casual</td>\n",
       "      <td>Puma Men Grey T-shirt</td>\n",
       "      <td>166</td>\n",
       "      <td>sold</td>\n",
       "      <td>80</td>\n",
       "      <td>2.5</td>\n",
       "      <td>./mytradataset/images/53759.jpg</td>\n",
       "    </tr>\n",
       "  </tbody>\n",
       "</table>\n",
       "</div>"
      ],
      "text/plain": [
       "      id gender masterCategory subCategory  articleType baseColour  season  \\\n",
       "0  15970    Men        Apparel     Topwear       Shirts  Navy Blue    Fall   \n",
       "1  39386    Men        Apparel  Bottomwear        Jeans       Blue  Summer   \n",
       "2  59263  Women    Accessories     Watches      Watches     Silver  Winter   \n",
       "3  21379    Men        Apparel  Bottomwear  Track Pants      Black    Fall   \n",
       "4  53759    Men        Apparel     Topwear      Tshirts       Grey  Summer   \n",
       "\n",
       "     year   usage                             productDisplayName  seller_id  \\\n",
       "0  2011.0  Casual               Turtle Check Men Navy Blue Shirt        148   \n",
       "1  2012.0  Casual             Peter England Men Party Blue Jeans         24   \n",
       "2  2016.0  Casual                       Titan Women Silver Watch        173   \n",
       "3  2011.0  Casual  Manchester United Men Solid Black Track Pants        191   \n",
       "4  2012.0  Casual                          Puma Men Grey T-shirt        166   \n",
       "\n",
       "     status  total_reviewers  average_rating                       image_path  \n",
       "0  for sale               66             2.3  ./mytradataset/images/15970.jpg  \n",
       "1  for sale               68             2.4  ./mytradataset/images/39386.jpg  \n",
       "2  for sale               55             2.5  ./mytradataset/images/59263.jpg  \n",
       "3  for sale               70             2.3  ./mytradataset/images/21379.jpg  \n",
       "4      sold               80             2.5  ./mytradataset/images/53759.jpg  "
      ]
     },
     "execution_count": 26,
     "metadata": {},
     "output_type": "execute_result"
    }
   ],
   "source": [
    "seller_df['image_path'] = seller_df.apply(get_image_path, axis=1)\n",
    "seller_df.head()"
   ]
  },
  {
   "cell_type": "code",
   "execution_count": 27,
   "id": "503ae03f",
   "metadata": {},
   "outputs": [],
   "source": [
    "seller_df.to_csv('./csv_files/combined_dataset.csv', index=False)"
   ]
  },
  {
   "cell_type": "code",
   "execution_count": 37,
   "id": "c4e5d4b8",
   "metadata": {},
   "outputs": [],
   "source": [
    "# Content Based"
   ]
  },
  {
   "cell_type": "code",
   "execution_count": 38,
   "id": "bb98edb9",
   "metadata": {},
   "outputs": [
    {
     "data": {
      "text/plain": [
       "0                 Turtle Check Men Navy Blue Shirt\n",
       "1               Peter England Men Party Blue Jeans\n",
       "2                         Titan Women Silver Watch\n",
       "3    Manchester United Men Solid Black Track Pants\n",
       "4                            Puma Men Grey T-shirt\n",
       "Name: productDisplayName, dtype: object"
      ]
     },
     "execution_count": 38,
     "metadata": {},
     "output_type": "execute_result"
    }
   ],
   "source": [
    "seller_df['productDisplayName'].head(5)"
   ]
  },
  {
   "cell_type": "code",
   "execution_count": 39,
   "id": "8a84036e",
   "metadata": {},
   "outputs": [
    {
     "data": {
      "text/plain": [
       "(44417, 8567)"
      ]
     },
     "execution_count": 39,
     "metadata": {},
     "output_type": "execute_result"
    }
   ],
   "source": [
    "# Import TfIdfVectorizer from scikit-learn\n",
    "from sklearn.feature_extraction.text import TfidfVectorizer\n",
    "from sklearn.metrics.pairwise import cosine_similarity, linear_kernel\n",
    "\n",
    "# Create a TF-IDF vectorizer\n",
    "tfidf = TfidfVectorizer(stop_words='english')\n",
    "\n",
    "# Replace NaN with an empty string\n",
    "seller_df['productDisplayName'] = seller_df['productDisplayName'].fillna('')\n",
    "\n",
    "# Compute the TF-IDF matrix\n",
    "tfidf_matrix = tfidf.fit_transform(seller_df['productDisplayName'])\n",
    "\n",
    "#Output the shape of tfidf_matrix\n",
    "tfidf_matrix.shape"
   ]
  },
  {
   "cell_type": "code",
   "execution_count": null,
   "id": "c905df60",
   "metadata": {},
   "outputs": [],
   "source": [
    "# Compute the cosine similarity matrix\n",
    "# cosine_sim = cosine_similarity(tfidf_matrix, tfidf_matrix)"
   ]
  },
  {
   "cell_type": "code",
   "execution_count": null,
   "id": "f84b02d0",
   "metadata": {},
   "outputs": [],
   "source": [
    "# Compute the cosine similarity matrix\n",
    "cosine_sim = linear_kernel(tfidf_matrix, tfidf_matrix)"
   ]
  },
  {
   "cell_type": "code",
   "execution_count": null,
   "id": "19f3b88a",
   "metadata": {},
   "outputs": [],
   "source": [
    "#Construct a reverse map of indices and product titles\n",
    "indices = pd.Series(seller_df.index, index=seller_df['productDisplayName']).drop_duplicates()"
   ]
  },
  {
   "cell_type": "code",
   "execution_count": null,
   "id": "8451dea0",
   "metadata": {},
   "outputs": [],
   "source": [
    "# Function that takes in product title as input and outputs most similar movies\n",
    "def get_recommendations(title, cosine_sim=linear_ker):\n",
    "    # Get the index of the product that matches the title\n",
    "    idx = indices[title]\n",
    "\n",
    "    # Get the pairwsie similarity scores of all movies with that product\n",
    "    sim_scores = list(enumerate(linear_ker[idx]))\n",
    "\n",
    "    # Sort the products based on the similarity scores\n",
    "    sim_scores = sorted(sim_scores, key=lambda x: x[1], reverse=True)\n",
    "\n",
    "    # Get the scores of the 10 most similar products\n",
    "    sim_scores = sim_scores[1:11]\n",
    "\n",
    "    # Get the movie indices\n",
    "    product_indices = [i[0] for i in sim_scores]\n",
    "\n",
    "    # Return the top 10 most similar products\n",
    "    return seller_df['productDisplayName'].iloc[product_indices]"
   ]
  },
  {
   "cell_type": "code",
   "execution_count": null,
   "id": "3240f59b",
   "metadata": {},
   "outputs": [],
   "source": [
    "# def get_recommendations(product_id, num_recommendations=5):\n",
    "#     # Get the index of the product\n",
    "#     idx = df[df['id'] == product_id].index[0]\n",
    "    \n",
    "#     # Get the pairwise similarity scores for the product\n",
    "#     sim_scores = list(enumerate(cosine_sim[idx]))\n",
    "    \n",
    "#     # Sort the products based on similarity scores\n",
    "#     sim_scores = sorted(sim_scores, key=lambda x: x[1], reverse=True)\n",
    "    \n",
    "#     # Get the top N similar products (excluding the same product)\n",
    "#     top_products = [i for i, _ in sim_scores[1:num_recommendations+1]]\n",
    "    \n",
    "#     # Return the recommendations\n",
    "#     return df.iloc[top_products]\n",
    "\n",
    "# # Example usage\n",
    "# recommendations = get_recommendations(product_id, num_recommendations=5)\n",
    "# print(recommendations[['id', 'productDisplayName']])"
   ]
  },
  {
   "cell_type": "code",
   "execution_count": null,
   "id": "f68bcc04",
   "metadata": {},
   "outputs": [],
   "source": [
    "get_recommendations('Chimp Men Draculla & Sons Yellow Tshirts')"
   ]
  }
 ],
 "metadata": {
  "kernelspec": {
   "display_name": "Python 3 (ipykernel)",
   "language": "python",
   "name": "python3"
  },
  "language_info": {
   "codemirror_mode": {
    "name": "ipython",
    "version": 3
   },
   "file_extension": ".py",
   "mimetype": "text/x-python",
   "name": "python",
   "nbconvert_exporter": "python",
   "pygments_lexer": "ipython3",
   "version": "3.9.13"
  }
 },
 "nbformat": 4,
 "nbformat_minor": 5
}
