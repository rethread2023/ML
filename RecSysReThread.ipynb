{
 "cells": [
  {
   "cell_type": "code",
   "execution_count": 1,
   "id": "e5a5338b",
   "metadata": {},
   "outputs": [],
   "source": [
    "# !pip install scikit-surprise==1.0.4"
   ]
  },
  {
   "cell_type": "code",
   "execution_count": 2,
   "id": "0bc21194",
   "metadata": {},
   "outputs": [],
   "source": [
    "import pandas as pd\n",
    "import random\n",
    "import numpy as np\n",
    "\n",
    "from sklearn.metrics.pairwise import cosine_similarity"
   ]
  },
  {
   "cell_type": "code",
   "execution_count": 3,
   "id": "91978ea1",
   "metadata": {},
   "outputs": [
    {
     "data": {
      "text/plain": [
       "'C:\\\\Users\\\\Ichlas\\\\Desktop\\\\ReThread\\\\ReThread'"
      ]
     },
     "execution_count": 3,
     "metadata": {},
     "output_type": "execute_result"
    }
   ],
   "source": [
    "import os\n",
    "os.getcwd()"
   ]
  },
  {
   "cell_type": "code",
   "execution_count": 4,
   "id": "837cbf2b",
   "metadata": {},
   "outputs": [
    {
     "name": "stdout",
     "output_type": "stream",
     "text": [
      "      id gender masterCategory subCategory  articleType baseColour  season  \\\n",
      "0  15970    Men        Apparel     Topwear       Shirts  Navy Blue    Fall   \n",
      "1  39386    Men        Apparel  Bottomwear        Jeans       Blue  Summer   \n",
      "2  59263  Women    Accessories     Watches      Watches     Silver  Winter   \n",
      "3  21379    Men        Apparel  Bottomwear  Track Pants      Black    Fall   \n",
      "4  53759    Men        Apparel     Topwear      Tshirts       Grey  Summer   \n",
      "\n",
      "     year   usage                             productDisplayName  \n",
      "0  2011.0  Casual               Turtle Check Men Navy Blue Shirt  \n",
      "1  2012.0  Casual             Peter England Men Party Blue Jeans  \n",
      "2  2016.0  Casual                       Titan Women Silver Watch  \n",
      "3  2011.0  Casual  Manchester United Men Solid Black Track Pants  \n",
      "4  2012.0  Casual                          Puma Men Grey T-shirt  \n"
     ]
    }
   ],
   "source": [
    "# Path to the CSV file\n",
    "csv_file_path = './FashionProductImages.csv'\n",
    "image_folder = './mytradataset/images/'\n",
    "\n",
    "# Read the CSV file into a DataFrame\n",
    "seller_df = pd.read_csv(csv_file_path, on_bad_lines='skip')\n",
    "\n",
    "# Display the first few rows of the DataFrame\n",
    "print(seller_df.head())"
   ]
  },
  {
   "cell_type": "code",
   "execution_count": 5,
   "id": "ea8bf102",
   "metadata": {},
   "outputs": [
    {
     "name": "stdout",
     "output_type": "stream",
     "text": [
      "      id gender masterCategory subCategory  articleType baseColour  season  \\\n",
      "0  15970    Men        Apparel     Topwear       Shirts  Navy Blue    Fall   \n",
      "1  39386    Men        Apparel  Bottomwear        Jeans       Blue  Summer   \n",
      "2  59263  Women    Accessories     Watches      Watches     Silver  Winter   \n",
      "3  21379    Men        Apparel  Bottomwear  Track Pants      Black    Fall   \n",
      "4  53759    Men        Apparel     Topwear      Tshirts       Grey  Summer   \n",
      "\n",
      "     year   usage                             productDisplayName  seller_id  \\\n",
      "0  2011.0  Casual               Turtle Check Men Navy Blue Shirt         24   \n",
      "1  2012.0  Casual             Peter England Men Party Blue Jeans         73   \n",
      "2  2016.0  Casual                       Titan Women Silver Watch        199   \n",
      "3  2011.0  Casual  Manchester United Men Solid Black Track Pants          1   \n",
      "4  2012.0  Casual                          Puma Men Grey T-shirt        151   \n",
      "\n",
      "     status  \n",
      "0  for sale  \n",
      "1  for sale  \n",
      "2  for sale  \n",
      "3  for sale  \n",
      "4  for sale  \n"
     ]
    }
   ],
   "source": [
    "# Generate random seller IDs\n",
    "seller_df['seller_id'] = np.random.randint(1, 201, size=len(seller_df))\n",
    "\n",
    "status_values = ['sold', 'for sale']\n",
    "seller_df['status'] = np.random.choice(status_values, size=len(seller_df), p=[0.3, 0.7])\n",
    "print(seller_df.head())\n",
    "# print(df_old[df_old['seller_id'] == 44])"
   ]
  },
  {
   "cell_type": "code",
   "execution_count": 6,
   "id": "8c59d584",
   "metadata": {},
   "outputs": [
    {
     "name": "stdout",
     "output_type": "stream",
     "text": [
      "id                    44424\n",
      "gender                    5\n",
      "masterCategory            7\n",
      "subCategory              45\n",
      "articleType             143\n",
      "baseColour               46\n",
      "season                    4\n",
      "year                     13\n",
      "usage                     8\n",
      "productDisplayName    31121\n",
      "seller_id               200\n",
      "status                    2\n",
      "dtype: int64\n"
     ]
    }
   ],
   "source": [
    "print(seller_df.nunique())"
   ]
  },
  {
   "cell_type": "code",
   "execution_count": 7,
   "id": "9b8ddd8e",
   "metadata": {},
   "outputs": [
    {
     "data": {
      "text/plain": [
       "13270.0"
      ]
     },
     "execution_count": 7,
     "metadata": {},
     "output_type": "execute_result"
    }
   ],
   "source": [
    "pd.Series(seller_df['status'] == 'sold', dtype=\"float64\").sum()"
   ]
  },
  {
   "cell_type": "code",
   "execution_count": 8,
   "id": "5a1e57c5",
   "metadata": {
    "scrolled": true
   },
   "outputs": [
    {
     "name": "stdout",
     "output_type": "stream",
     "text": [
      "id                      0\n",
      "gender                  0\n",
      "masterCategory          0\n",
      "subCategory             0\n",
      "articleType             0\n",
      "baseColour             15\n",
      "season                 21\n",
      "year                    1\n",
      "usage                 317\n",
      "productDisplayName      7\n",
      "seller_id               0\n",
      "status                  0\n",
      "dtype: int64\n"
     ]
    }
   ],
   "source": [
    "# Count how many empty values\n",
    "def count_empty_values(df):\n",
    "    empty_counts = df.isna().sum()\n",
    "    return empty_counts\n",
    "\n",
    "df = pd.DataFrame(seller_df)\n",
    "empty_counts = count_empty_values(df)\n",
    "\n",
    "print(empty_counts)"
   ]
  },
  {
   "cell_type": "code",
   "execution_count": 9,
   "id": "58351b88",
   "metadata": {},
   "outputs": [],
   "source": [
    "def delete_rows_with_nan(df_del, attribute):\n",
    "    df_del = df_del.dropna(subset=[attribute])\n",
    "    return df_del\n",
    "\n",
    "df_del = pd.DataFrame(seller_df)\n",
    "\n",
    "# Delete rows where 'productDisplayName' contains NaN\n",
    "attribute_to_check = 'productDisplayName'\n",
    "seller_df = delete_rows_with_nan(df_del, attribute_to_check)"
   ]
  },
  {
   "cell_type": "code",
   "execution_count": 10,
   "id": "4606ace4",
   "metadata": {},
   "outputs": [
    {
     "name": "stdout",
     "output_type": "stream",
     "text": [
      "id                      0\n",
      "gender                  0\n",
      "masterCategory          0\n",
      "subCategory             0\n",
      "articleType             0\n",
      "baseColour             10\n",
      "season                 21\n",
      "year                    1\n",
      "usage                 312\n",
      "productDisplayName      0\n",
      "seller_id               0\n",
      "status                  0\n",
      "dtype: int64\n"
     ]
    }
   ],
   "source": [
    "# Re-check if the NaN values from the 'productDisplayName' attribute is deleted\n",
    "df = pd.DataFrame(seller_df)\n",
    "empty_counts = count_empty_values(df)\n",
    "print(empty_counts)"
   ]
  },
  {
   "cell_type": "code",
   "execution_count": 11,
   "id": "097ef41f",
   "metadata": {},
   "outputs": [
    {
     "name": "stdout",
     "output_type": "stream",
     "text": [
      "       user_id  fashion_id  rating  rated_sellers_id\n",
      "0          469       26960     3.8                42\n",
      "1          456       30039     3.5                 1\n",
      "2          173       12369     4.2               129\n",
      "3          400       29928     4.4               137\n",
      "4          207       42419     0.7               175\n",
      "...        ...         ...     ...               ...\n",
      "13262      373       30614     1.8                80\n",
      "13263      247       13496     4.3               124\n",
      "13264      390       55283     1.8               145\n",
      "13265      121       12544     1.6               105\n",
      "13266        3       51623     3.0                47\n",
      "\n",
      "[13267 rows x 4 columns]\n"
     ]
    }
   ],
   "source": [
    "# Filter 'sold' items from 'seller' DataFrame\n",
    "sold_items = seller_df[seller_df['status'] == 'sold']\n",
    "\n",
    "# Get the number of 'sold' items\n",
    "num_sold_items = len(sold_items)\n",
    "\n",
    "rate = np.random.uniform(low=0.0, high=5.0, size=num_sold_items)\n",
    "rounded_ratings = np.round(rate, decimals=1)\n",
    "\n",
    "# Generate 'rating' dataset based on 'sold' items\n",
    "rating_data = {\n",
    "    'user_id': np.random.choice(range(1, 501), size=num_sold_items, replace=True),\n",
    "    'fashion_id': sold_items['id'].tolist(),\n",
    "    'rating': rounded_ratings,\n",
    "    'rated_sellers_id': sold_items['seller_id'].tolist()\n",
    "}\n",
    "\n",
    "rating_df = pd.DataFrame(rating_data)\n",
    "\n",
    "print(rating_df)"
   ]
  },
  {
   "cell_type": "code",
   "execution_count": 12,
   "id": "a07c40d0",
   "metadata": {},
   "outputs": [
    {
     "name": "stderr",
     "output_type": "stream",
     "text": [
      "C:\\Users\\Ichlas\\AppData\\Local\\Temp\\ipykernel_11568\\4275440714.py:5: SettingWithCopyWarning: \n",
      "A value is trying to be set on a copy of a slice from a DataFrame.\n",
      "Try using .loc[row_indexer,col_indexer] = value instead\n",
      "\n",
      "See the caveats in the documentation: https://pandas.pydata.org/pandas-docs/stable/user_guide/indexing.html#returning-a-view-versus-a-copy\n",
      "  seller_df['total_reviewers'] = seller_df['seller_id'].map(seller_counts)\n"
     ]
    }
   ],
   "source": [
    "# Count occurrences of each unique value in 'seller_id' label\n",
    "seller_counts = rating_df['rated_sellers_id'].value_counts()\n",
    "\n",
    "# Insert 'total_reviewers' label to 'seller_df'\n",
    "seller_df['total_reviewers'] = seller_df['seller_id'].map(seller_counts)"
   ]
  },
  {
   "cell_type": "code",
   "execution_count": 13,
   "id": "9e836d53",
   "metadata": {},
   "outputs": [
    {
     "name": "stdout",
     "output_type": "stream",
     "text": [
      "          id gender masterCategory subCategory            articleType  \\\n",
      "0      15970    Men        Apparel     Topwear                 Shirts   \n",
      "1      39386    Men        Apparel  Bottomwear                  Jeans   \n",
      "2      59263  Women    Accessories     Watches                Watches   \n",
      "3      21379    Men        Apparel  Bottomwear            Track Pants   \n",
      "4      53759    Men        Apparel     Topwear                Tshirts   \n",
      "...      ...    ...            ...         ...                    ...   \n",
      "44419  17036    Men       Footwear       Shoes           Casual Shoes   \n",
      "44420   6461    Men       Footwear  Flip Flops             Flip Flops   \n",
      "44421  18842    Men        Apparel     Topwear                Tshirts   \n",
      "44422  46694  Women  Personal Care   Fragrance  Perfume and Body Mist   \n",
      "44423  51623  Women    Accessories     Watches                Watches   \n",
      "\n",
      "      baseColour  season    year   usage  \\\n",
      "0      Navy Blue    Fall  2011.0  Casual   \n",
      "1           Blue  Summer  2012.0  Casual   \n",
      "2         Silver  Winter  2016.0  Casual   \n",
      "3          Black    Fall  2011.0  Casual   \n",
      "4           Grey  Summer  2012.0  Casual   \n",
      "...          ...     ...     ...     ...   \n",
      "44419      White  Summer  2013.0  Casual   \n",
      "44420        Red  Summer  2011.0  Casual   \n",
      "44421       Blue    Fall  2011.0  Casual   \n",
      "44422       Blue  Spring  2017.0  Casual   \n",
      "44423       Pink  Winter  2016.0  Casual   \n",
      "\n",
      "                                    productDisplayName  seller_id    status  \\\n",
      "0                     Turtle Check Men Navy Blue Shirt         24  for sale   \n",
      "1                   Peter England Men Party Blue Jeans         73  for sale   \n",
      "2                             Titan Women Silver Watch        199  for sale   \n",
      "3        Manchester United Men Solid Black Track Pants          1  for sale   \n",
      "4                                Puma Men Grey T-shirt        151  for sale   \n",
      "...                                                ...        ...       ...   \n",
      "44419                        Gas Men Caddy Casual Shoe        107  for sale   \n",
      "44420               Lotto Men's Soccer Track Flip Flop         59  for sale   \n",
      "44421             Puma Men Graphic Stellar Blue Tshirt          3  for sale   \n",
      "44422                   Rasasi Women Blue Lady Perfume        129  for sale   \n",
      "44423  Fossil Women Pink Dial Chronograph Watch ES3050         47      sold   \n",
      "\n",
      "       total_reviewers  average_rating  \n",
      "0                   72             2.5  \n",
      "1                   66             2.3  \n",
      "2                   65             2.7  \n",
      "3                   52             2.5  \n",
      "4                   81             2.5  \n",
      "...                ...             ...  \n",
      "44419               61             2.4  \n",
      "44420               66             2.6  \n",
      "44421               72             2.6  \n",
      "44422               70             2.4  \n",
      "44423               75             2.3  \n",
      "\n",
      "[44417 rows x 14 columns]\n"
     ]
    },
    {
     "name": "stderr",
     "output_type": "stream",
     "text": [
      "C:\\Users\\Ichlas\\AppData\\Local\\Temp\\ipykernel_11568\\1788934405.py:6: SettingWithCopyWarning: \n",
      "A value is trying to be set on a copy of a slice from a DataFrame.\n",
      "Try using .loc[row_indexer,col_indexer] = value instead\n",
      "\n",
      "See the caveats in the documentation: https://pandas.pydata.org/pandas-docs/stable/user_guide/indexing.html#returning-a-view-versus-a-copy\n",
      "  seller_df['average_rating'] = rounded_ratings[seller_df['seller_id']].values\n"
     ]
    }
   ],
   "source": [
    "# Calculate average rating for each seller_id\n",
    "average_ratings = rating_df.groupby('rated_sellers_id')['rating'].mean()\n",
    "rounded_ratings = np.round(average_ratings, decimals=1)\n",
    "\n",
    "# Add 'average_rating' label to 'seller' DataFrame\n",
    "seller_df['average_rating'] = rounded_ratings[seller_df['seller_id']].values\n",
    "\n",
    "print(seller_df)"
   ]
  },
  {
   "cell_type": "code",
   "execution_count": 14,
   "id": "707ed411",
   "metadata": {},
   "outputs": [],
   "source": [
    "def get_image_path(row):\n",
    "    image_id = row['id']\n",
    "    image_path = os.path.join(image_folder, str(image_id) + '.jpg')\n",
    "    return image_path"
   ]
  },
  {
   "cell_type": "code",
   "execution_count": 15,
   "id": "096411be",
   "metadata": {},
   "outputs": [
    {
     "name": "stderr",
     "output_type": "stream",
     "text": [
      "C:\\Users\\Ichlas\\AppData\\Local\\Temp\\ipykernel_11568\\4125256996.py:1: SettingWithCopyWarning: \n",
      "A value is trying to be set on a copy of a slice from a DataFrame.\n",
      "Try using .loc[row_indexer,col_indexer] = value instead\n",
      "\n",
      "See the caveats in the documentation: https://pandas.pydata.org/pandas-docs/stable/user_guide/indexing.html#returning-a-view-versus-a-copy\n",
      "  seller_df['image_path'] = seller_df.apply(get_image_path, axis=1)\n"
     ]
    },
    {
     "data": {
      "text/html": [
       "<div>\n",
       "<style scoped>\n",
       "    .dataframe tbody tr th:only-of-type {\n",
       "        vertical-align: middle;\n",
       "    }\n",
       "\n",
       "    .dataframe tbody tr th {\n",
       "        vertical-align: top;\n",
       "    }\n",
       "\n",
       "    .dataframe thead th {\n",
       "        text-align: right;\n",
       "    }\n",
       "</style>\n",
       "<table border=\"1\" class=\"dataframe\">\n",
       "  <thead>\n",
       "    <tr style=\"text-align: right;\">\n",
       "      <th></th>\n",
       "      <th>id</th>\n",
       "      <th>gender</th>\n",
       "      <th>masterCategory</th>\n",
       "      <th>subCategory</th>\n",
       "      <th>articleType</th>\n",
       "      <th>baseColour</th>\n",
       "      <th>season</th>\n",
       "      <th>year</th>\n",
       "      <th>usage</th>\n",
       "      <th>productDisplayName</th>\n",
       "      <th>seller_id</th>\n",
       "      <th>status</th>\n",
       "      <th>total_reviewers</th>\n",
       "      <th>average_rating</th>\n",
       "      <th>image_path</th>\n",
       "    </tr>\n",
       "  </thead>\n",
       "  <tbody>\n",
       "    <tr>\n",
       "      <th>0</th>\n",
       "      <td>15970</td>\n",
       "      <td>Men</td>\n",
       "      <td>Apparel</td>\n",
       "      <td>Topwear</td>\n",
       "      <td>Shirts</td>\n",
       "      <td>Navy Blue</td>\n",
       "      <td>Fall</td>\n",
       "      <td>2011.0</td>\n",
       "      <td>Casual</td>\n",
       "      <td>Turtle Check Men Navy Blue Shirt</td>\n",
       "      <td>24</td>\n",
       "      <td>for sale</td>\n",
       "      <td>72</td>\n",
       "      <td>2.5</td>\n",
       "      <td>./mytradataset/images/15970.jpg</td>\n",
       "    </tr>\n",
       "    <tr>\n",
       "      <th>1</th>\n",
       "      <td>39386</td>\n",
       "      <td>Men</td>\n",
       "      <td>Apparel</td>\n",
       "      <td>Bottomwear</td>\n",
       "      <td>Jeans</td>\n",
       "      <td>Blue</td>\n",
       "      <td>Summer</td>\n",
       "      <td>2012.0</td>\n",
       "      <td>Casual</td>\n",
       "      <td>Peter England Men Party Blue Jeans</td>\n",
       "      <td>73</td>\n",
       "      <td>for sale</td>\n",
       "      <td>66</td>\n",
       "      <td>2.3</td>\n",
       "      <td>./mytradataset/images/39386.jpg</td>\n",
       "    </tr>\n",
       "    <tr>\n",
       "      <th>2</th>\n",
       "      <td>59263</td>\n",
       "      <td>Women</td>\n",
       "      <td>Accessories</td>\n",
       "      <td>Watches</td>\n",
       "      <td>Watches</td>\n",
       "      <td>Silver</td>\n",
       "      <td>Winter</td>\n",
       "      <td>2016.0</td>\n",
       "      <td>Casual</td>\n",
       "      <td>Titan Women Silver Watch</td>\n",
       "      <td>199</td>\n",
       "      <td>for sale</td>\n",
       "      <td>65</td>\n",
       "      <td>2.7</td>\n",
       "      <td>./mytradataset/images/59263.jpg</td>\n",
       "    </tr>\n",
       "    <tr>\n",
       "      <th>3</th>\n",
       "      <td>21379</td>\n",
       "      <td>Men</td>\n",
       "      <td>Apparel</td>\n",
       "      <td>Bottomwear</td>\n",
       "      <td>Track Pants</td>\n",
       "      <td>Black</td>\n",
       "      <td>Fall</td>\n",
       "      <td>2011.0</td>\n",
       "      <td>Casual</td>\n",
       "      <td>Manchester United Men Solid Black Track Pants</td>\n",
       "      <td>1</td>\n",
       "      <td>for sale</td>\n",
       "      <td>52</td>\n",
       "      <td>2.5</td>\n",
       "      <td>./mytradataset/images/21379.jpg</td>\n",
       "    </tr>\n",
       "    <tr>\n",
       "      <th>4</th>\n",
       "      <td>53759</td>\n",
       "      <td>Men</td>\n",
       "      <td>Apparel</td>\n",
       "      <td>Topwear</td>\n",
       "      <td>Tshirts</td>\n",
       "      <td>Grey</td>\n",
       "      <td>Summer</td>\n",
       "      <td>2012.0</td>\n",
       "      <td>Casual</td>\n",
       "      <td>Puma Men Grey T-shirt</td>\n",
       "      <td>151</td>\n",
       "      <td>for sale</td>\n",
       "      <td>81</td>\n",
       "      <td>2.5</td>\n",
       "      <td>./mytradataset/images/53759.jpg</td>\n",
       "    </tr>\n",
       "  </tbody>\n",
       "</table>\n",
       "</div>"
      ],
      "text/plain": [
       "      id gender masterCategory subCategory  articleType baseColour  season  \\\n",
       "0  15970    Men        Apparel     Topwear       Shirts  Navy Blue    Fall   \n",
       "1  39386    Men        Apparel  Bottomwear        Jeans       Blue  Summer   \n",
       "2  59263  Women    Accessories     Watches      Watches     Silver  Winter   \n",
       "3  21379    Men        Apparel  Bottomwear  Track Pants      Black    Fall   \n",
       "4  53759    Men        Apparel     Topwear      Tshirts       Grey  Summer   \n",
       "\n",
       "     year   usage                             productDisplayName  seller_id  \\\n",
       "0  2011.0  Casual               Turtle Check Men Navy Blue Shirt         24   \n",
       "1  2012.0  Casual             Peter England Men Party Blue Jeans         73   \n",
       "2  2016.0  Casual                       Titan Women Silver Watch        199   \n",
       "3  2011.0  Casual  Manchester United Men Solid Black Track Pants          1   \n",
       "4  2012.0  Casual                          Puma Men Grey T-shirt        151   \n",
       "\n",
       "     status  total_reviewers  average_rating                       image_path  \n",
       "0  for sale               72             2.5  ./mytradataset/images/15970.jpg  \n",
       "1  for sale               66             2.3  ./mytradataset/images/39386.jpg  \n",
       "2  for sale               65             2.7  ./mytradataset/images/59263.jpg  \n",
       "3  for sale               52             2.5  ./mytradataset/images/21379.jpg  \n",
       "4  for sale               81             2.5  ./mytradataset/images/53759.jpg  "
      ]
     },
     "execution_count": 15,
     "metadata": {},
     "output_type": "execute_result"
    }
   ],
   "source": [
    "seller_df['image_path'] = seller_df.apply(get_image_path, axis=1)\n",
    "seller_df.head()"
   ]
  },
  {
   "cell_type": "code",
   "execution_count": 16,
   "id": "260eabda",
   "metadata": {},
   "outputs": [
    {
     "data": {
      "text/plain": [
       "(44417, 15)"
      ]
     },
     "execution_count": 16,
     "metadata": {},
     "output_type": "execute_result"
    }
   ],
   "source": [
    "seller_df.shape"
   ]
  },
  {
   "cell_type": "code",
   "execution_count": 17,
   "id": "5546eeff",
   "metadata": {},
   "outputs": [
    {
     "data": {
      "text/plain": [
       "2.5065357858477944"
      ]
     },
     "execution_count": 17,
     "metadata": {},
     "output_type": "execute_result"
    }
   ],
   "source": [
    "# Demographic Filtering = Recommendation based on popular sellers, will be displayed for new users\n",
    "C= seller_df['average_rating'].mean()\n",
    "C"
   ]
  },
  {
   "cell_type": "code",
   "execution_count": 18,
   "id": "e399bad2",
   "metadata": {},
   "outputs": [
    {
     "data": {
      "text/plain": [
       "78.0"
      ]
     },
     "execution_count": 18,
     "metadata": {},
     "output_type": "execute_result"
    }
   ],
   "source": [
    "m= seller_df['total_reviewers'].quantile(0.9)\n",
    "m"
   ]
  },
  {
   "cell_type": "code",
   "execution_count": 19,
   "id": "b15e2c15",
   "metadata": {},
   "outputs": [
    {
     "data": {
      "text/plain": [
       "(4528, 15)"
      ]
     },
     "execution_count": 19,
     "metadata": {},
     "output_type": "execute_result"
    }
   ],
   "source": [
    "# We will now make a new dataset of top trend clothings\n",
    "top10_fashions = seller_df.copy().loc[seller_df['total_reviewers'] >= m]\n",
    "top10_fashions.shape"
   ]
  },
  {
   "cell_type": "code",
   "execution_count": 20,
   "id": "347b9389",
   "metadata": {},
   "outputs": [],
   "source": [
    "# We will define a function, weighted_rating() and define a new feature score,\n",
    "# of which we'll calculate the value by applying this function to our DataFrame of top trend clothings:\n",
    "def weighted_rating(x, m=m, C=C):\n",
    "    v = x['total_reviewers']\n",
    "    R = x['average_rating']\n",
    "    # Calculation based on the IMDB formula\n",
    "    return (v/(v+m) * R) + (m/(m+v) * C)"
   ]
  },
  {
   "cell_type": "code",
   "execution_count": 21,
   "id": "cf19338f",
   "metadata": {},
   "outputs": [],
   "source": [
    "# Define a new feature 'score' and calculate its value with `weighted_rating()`\n",
    "top10_fashions['score'] = top10_fashions.apply(weighted_rating, axis=1)"
   ]
  },
  {
   "cell_type": "code",
   "execution_count": 22,
   "id": "96bff4e7",
   "metadata": {},
   "outputs": [],
   "source": [
    "#Sort movies based on score calculated above\n",
    "top10_fashions = top10_fashions.sort_values('score', ascending=False)"
   ]
  },
  {
   "cell_type": "code",
   "execution_count": 23,
   "id": "47047d63",
   "metadata": {},
   "outputs": [],
   "source": [
    "# Sort the DataFrame by 'score' in descending order\n",
    "df_sorted = top10_fashions.sort_values(by='score', ascending=False)\n",
    "\n",
    "# Drop duplicate 'seller_id' values, keeping the first occurrence\n",
    "df_unique = df_sorted.drop_duplicates(subset='seller_id', keep='first')\n",
    "\n",
    "# Extract the desired columns\n",
    "output_columns = ['seller_id', 'score'] + list(df_unique.columns.difference(['seller_id', 'score']))\n",
    "top10_fashions = df_unique[output_columns]\n",
    "top10_fashions.insert(0, 'no', range(1, len(top10_fashions) + 1))"
   ]
  },
  {
   "cell_type": "code",
   "execution_count": 24,
   "id": "e457c60f",
   "metadata": {},
   "outputs": [
    {
     "data": {
      "text/html": [
       "<div>\n",
       "<style scoped>\n",
       "    .dataframe tbody tr th:only-of-type {\n",
       "        vertical-align: middle;\n",
       "    }\n",
       "\n",
       "    .dataframe tbody tr th {\n",
       "        vertical-align: top;\n",
       "    }\n",
       "\n",
       "    .dataframe thead th {\n",
       "        text-align: right;\n",
       "    }\n",
       "</style>\n",
       "<table border=\"1\" class=\"dataframe\">\n",
       "  <thead>\n",
       "    <tr style=\"text-align: right;\">\n",
       "      <th></th>\n",
       "      <th>no</th>\n",
       "      <th>seller_id</th>\n",
       "      <th>score</th>\n",
       "      <th>articleType</th>\n",
       "      <th>average_rating</th>\n",
       "      <th>baseColour</th>\n",
       "      <th>gender</th>\n",
       "      <th>id</th>\n",
       "      <th>image_path</th>\n",
       "      <th>masterCategory</th>\n",
       "      <th>productDisplayName</th>\n",
       "      <th>season</th>\n",
       "      <th>status</th>\n",
       "      <th>subCategory</th>\n",
       "      <th>total_reviewers</th>\n",
       "      <th>usage</th>\n",
       "      <th>year</th>\n",
       "    </tr>\n",
       "  </thead>\n",
       "  <tbody>\n",
       "    <tr>\n",
       "      <th>24937</th>\n",
       "      <td>1</td>\n",
       "      <td>155</td>\n",
       "      <td>2.660426</td>\n",
       "      <td>Casual Shoes</td>\n",
       "      <td>2.8</td>\n",
       "      <td>Brown</td>\n",
       "      <td>Men</td>\n",
       "      <td>5292</td>\n",
       "      <td>./mytradataset/images/5292.jpg</td>\n",
       "      <td>Footwear</td>\n",
       "      <td>Lee Cooper Men's Brown Semi Formal Shoe</td>\n",
       "      <td>Summer</td>\n",
       "      <td>for sale</td>\n",
       "      <td>Shoes</td>\n",
       "      <td>86</td>\n",
       "      <td>Casual</td>\n",
       "      <td>2011.0</td>\n",
       "    </tr>\n",
       "    <tr>\n",
       "      <th>29880</th>\n",
       "      <td>2</td>\n",
       "      <td>12</td>\n",
       "      <td>2.554719</td>\n",
       "      <td>Flats</td>\n",
       "      <td>2.6</td>\n",
       "      <td>Red</td>\n",
       "      <td>Women</td>\n",
       "      <td>47619</td>\n",
       "      <td>./mytradataset/images/47619.jpg</td>\n",
       "      <td>Footwear</td>\n",
       "      <td>Portia Women Yellow &amp; Red Flats</td>\n",
       "      <td>Fall</td>\n",
       "      <td>sold</td>\n",
       "      <td>Shoes</td>\n",
       "      <td>83</td>\n",
       "      <td>Casual</td>\n",
       "      <td>2014.0</td>\n",
       "    </tr>\n",
       "    <tr>\n",
       "      <th>29150</th>\n",
       "      <td>3</td>\n",
       "      <td>114</td>\n",
       "      <td>2.554436</td>\n",
       "      <td>Tshirts</td>\n",
       "      <td>2.6</td>\n",
       "      <td>Green</td>\n",
       "      <td>Men</td>\n",
       "      <td>31238</td>\n",
       "      <td>./mytradataset/images/31238.jpg</td>\n",
       "      <td>Apparel</td>\n",
       "      <td>Puma Men Schon Polo Green T-shirt</td>\n",
       "      <td>Summer</td>\n",
       "      <td>for sale</td>\n",
       "      <td>Topwear</td>\n",
       "      <td>82</td>\n",
       "      <td>Casual</td>\n",
       "      <td>2012.0</td>\n",
       "    </tr>\n",
       "    <tr>\n",
       "      <th>2349</th>\n",
       "      <td>4</td>\n",
       "      <td>121</td>\n",
       "      <td>2.554150</td>\n",
       "      <td>Watches</td>\n",
       "      <td>2.6</td>\n",
       "      <td>White</td>\n",
       "      <td>Men</td>\n",
       "      <td>45039</td>\n",
       "      <td>./mytradataset/images/45039.jpg</td>\n",
       "      <td>Accessories</td>\n",
       "      <td>Maxima Men White Dial Attivo Watch</td>\n",
       "      <td>Winter</td>\n",
       "      <td>sold</td>\n",
       "      <td>Watches</td>\n",
       "      <td>81</td>\n",
       "      <td>Casual</td>\n",
       "      <td>2016.0</td>\n",
       "    </tr>\n",
       "    <tr>\n",
       "      <th>21676</th>\n",
       "      <td>5</td>\n",
       "      <td>154</td>\n",
       "      <td>2.554150</td>\n",
       "      <td>Sunglasses</td>\n",
       "      <td>2.6</td>\n",
       "      <td>Grey</td>\n",
       "      <td>Men</td>\n",
       "      <td>40166</td>\n",
       "      <td>./mytradataset/images/40166.jpg</td>\n",
       "      <td>Accessories</td>\n",
       "      <td>Fastrack Men UV Protected Sporty Sunglasses</td>\n",
       "      <td>Winter</td>\n",
       "      <td>sold</td>\n",
       "      <td>Eyewear</td>\n",
       "      <td>81</td>\n",
       "      <td>Casual</td>\n",
       "      <td>2016.0</td>\n",
       "    </tr>\n",
       "    <tr>\n",
       "      <th>21729</th>\n",
       "      <td>6</td>\n",
       "      <td>124</td>\n",
       "      <td>2.554150</td>\n",
       "      <td>Sunglasses</td>\n",
       "      <td>2.6</td>\n",
       "      <td>Blue</td>\n",
       "      <td>Men</td>\n",
       "      <td>51689</td>\n",
       "      <td>./mytradataset/images/51689.jpg</td>\n",
       "      <td>Accessories</td>\n",
       "      <td>Louis Philippe Men Oversized Sunglasses LP226-C4</td>\n",
       "      <td>Winter</td>\n",
       "      <td>sold</td>\n",
       "      <td>Eyewear</td>\n",
       "      <td>81</td>\n",
       "      <td>Casual</td>\n",
       "      <td>2016.0</td>\n",
       "    </tr>\n",
       "    <tr>\n",
       "      <th>36891</th>\n",
       "      <td>7</td>\n",
       "      <td>43</td>\n",
       "      <td>2.553859</td>\n",
       "      <td>Tshirts</td>\n",
       "      <td>2.6</td>\n",
       "      <td>Green</td>\n",
       "      <td>Men</td>\n",
       "      <td>18936</td>\n",
       "      <td>./mytradataset/images/18936.jpg</td>\n",
       "      <td>Apparel</td>\n",
       "      <td>Levi's Men Graphic Print Green Tshirt</td>\n",
       "      <td>Fall</td>\n",
       "      <td>for sale</td>\n",
       "      <td>Topwear</td>\n",
       "      <td>80</td>\n",
       "      <td>Casual</td>\n",
       "      <td>2011.0</td>\n",
       "    </tr>\n",
       "    <tr>\n",
       "      <th>1750</th>\n",
       "      <td>8</td>\n",
       "      <td>193</td>\n",
       "      <td>2.553268</td>\n",
       "      <td>Shorts</td>\n",
       "      <td>2.6</td>\n",
       "      <td>Blue</td>\n",
       "      <td>Girls</td>\n",
       "      <td>41000</td>\n",
       "      <td>./mytradataset/images/41000.jpg</td>\n",
       "      <td>Apparel</td>\n",
       "      <td>Gini and Jony Girls Woven Blue Shorts</td>\n",
       "      <td>Summer</td>\n",
       "      <td>sold</td>\n",
       "      <td>Bottomwear</td>\n",
       "      <td>78</td>\n",
       "      <td>Casual</td>\n",
       "      <td>2012.0</td>\n",
       "    </tr>\n",
       "    <tr>\n",
       "      <th>687</th>\n",
       "      <td>9</td>\n",
       "      <td>53</td>\n",
       "      <td>2.503268</td>\n",
       "      <td>Tshirts</td>\n",
       "      <td>2.5</td>\n",
       "      <td>Rust</td>\n",
       "      <td>Women</td>\n",
       "      <td>28467</td>\n",
       "      <td>./mytradataset/images/28467.jpg</td>\n",
       "      <td>Apparel</td>\n",
       "      <td>Urban Yoga Women Printed Rust T-shirt</td>\n",
       "      <td>Summer</td>\n",
       "      <td>for sale</td>\n",
       "      <td>Topwear</td>\n",
       "      <td>78</td>\n",
       "      <td>Casual</td>\n",
       "      <td>2012.0</td>\n",
       "    </tr>\n",
       "    <tr>\n",
       "      <th>20442</th>\n",
       "      <td>10</td>\n",
       "      <td>74</td>\n",
       "      <td>2.503206</td>\n",
       "      <td>Tops</td>\n",
       "      <td>2.5</td>\n",
       "      <td>Teal</td>\n",
       "      <td>Women</td>\n",
       "      <td>42237</td>\n",
       "      <td>./mytradataset/images/42237.jpg</td>\n",
       "      <td>Apparel</td>\n",
       "      <td>Sepia Women Teal Tops</td>\n",
       "      <td>Summer</td>\n",
       "      <td>sold</td>\n",
       "      <td>Topwear</td>\n",
       "      <td>81</td>\n",
       "      <td>Casual</td>\n",
       "      <td>2012.0</td>\n",
       "    </tr>\n",
       "  </tbody>\n",
       "</table>\n",
       "</div>"
      ],
      "text/plain": [
       "       no  seller_id     score   articleType  average_rating baseColour  \\\n",
       "24937   1        155  2.660426  Casual Shoes             2.8      Brown   \n",
       "29880   2         12  2.554719         Flats             2.6        Red   \n",
       "29150   3        114  2.554436       Tshirts             2.6      Green   \n",
       "2349    4        121  2.554150       Watches             2.6      White   \n",
       "21676   5        154  2.554150    Sunglasses             2.6       Grey   \n",
       "21729   6        124  2.554150    Sunglasses             2.6       Blue   \n",
       "36891   7         43  2.553859       Tshirts             2.6      Green   \n",
       "1750    8        193  2.553268        Shorts             2.6       Blue   \n",
       "687     9         53  2.503268       Tshirts             2.5       Rust   \n",
       "20442  10         74  2.503206          Tops             2.5       Teal   \n",
       "\n",
       "      gender     id                       image_path masterCategory  \\\n",
       "24937    Men   5292   ./mytradataset/images/5292.jpg       Footwear   \n",
       "29880  Women  47619  ./mytradataset/images/47619.jpg       Footwear   \n",
       "29150    Men  31238  ./mytradataset/images/31238.jpg        Apparel   \n",
       "2349     Men  45039  ./mytradataset/images/45039.jpg    Accessories   \n",
       "21676    Men  40166  ./mytradataset/images/40166.jpg    Accessories   \n",
       "21729    Men  51689  ./mytradataset/images/51689.jpg    Accessories   \n",
       "36891    Men  18936  ./mytradataset/images/18936.jpg        Apparel   \n",
       "1750   Girls  41000  ./mytradataset/images/41000.jpg        Apparel   \n",
       "687    Women  28467  ./mytradataset/images/28467.jpg        Apparel   \n",
       "20442  Women  42237  ./mytradataset/images/42237.jpg        Apparel   \n",
       "\n",
       "                                     productDisplayName  season    status  \\\n",
       "24937           Lee Cooper Men's Brown Semi Formal Shoe  Summer  for sale   \n",
       "29880                   Portia Women Yellow & Red Flats    Fall      sold   \n",
       "29150                 Puma Men Schon Polo Green T-shirt  Summer  for sale   \n",
       "2349                 Maxima Men White Dial Attivo Watch  Winter      sold   \n",
       "21676       Fastrack Men UV Protected Sporty Sunglasses  Winter      sold   \n",
       "21729  Louis Philippe Men Oversized Sunglasses LP226-C4  Winter      sold   \n",
       "36891             Levi's Men Graphic Print Green Tshirt    Fall  for sale   \n",
       "1750              Gini and Jony Girls Woven Blue Shorts  Summer      sold   \n",
       "687               Urban Yoga Women Printed Rust T-shirt  Summer  for sale   \n",
       "20442                             Sepia Women Teal Tops  Summer      sold   \n",
       "\n",
       "      subCategory  total_reviewers   usage    year  \n",
       "24937       Shoes               86  Casual  2011.0  \n",
       "29880       Shoes               83  Casual  2014.0  \n",
       "29150     Topwear               82  Casual  2012.0  \n",
       "2349      Watches               81  Casual  2016.0  \n",
       "21676     Eyewear               81  Casual  2016.0  \n",
       "21729     Eyewear               81  Casual  2016.0  \n",
       "36891     Topwear               80  Casual  2011.0  \n",
       "1750   Bottomwear               78  Casual  2012.0  \n",
       "687       Topwear               78  Casual  2012.0  \n",
       "20442     Topwear               81  Casual  2012.0  "
      ]
     },
     "execution_count": 24,
     "metadata": {},
     "output_type": "execute_result"
    }
   ],
   "source": [
    "# Output the resulting DataFrame\n",
    "# print(top10_fashions)\n",
    "top10_fashions.head(10)"
   ]
  },
  {
   "cell_type": "code",
   "execution_count": 25,
   "id": "dcbcc54d",
   "metadata": {},
   "outputs": [
    {
     "name": "stdout",
     "output_type": "stream",
     "text": [
      "Trending 1 from seller 155\n"
     ]
    },
    {
     "data": {
      "image/png": "[encoded data removed]",
      "text/plain": [
       "<PIL.JpegImagePlugin.JpegImageFile image mode=RGB size=60x80>"
      ]
     },
     "metadata": {},
     "output_type": "display_data"
    },
    {
     "name": "stdout",
     "output_type": "stream",
     "text": [
      "Lee Cooper Men's Brown Semi Formal Shoe\n",
      "----------------------\n",
      "Trending 2 from seller 12\n"
     ]
    },
    {
     "data": {
      "image/png": "[encoded data removed]",
      "text/plain": [
       "<PIL.JpegImagePlugin.JpegImageFile image mode=RGB size=60x80>"
      ]
     },
     "metadata": {},
     "output_type": "display_data"
    },
    {
     "name": "stdout",
     "output_type": "stream",
     "text": [
      "Portia Women Yellow & Red Flats\n",
      "----------------------\n",
      "Trending 3 from seller 114\n"
     ]
    },
    {
     "data": {
      "image/png": "[encoded data removed]",
      "text/plain": [
       "<PIL.JpegImagePlugin.JpegImageFile image mode=RGB size=60x80>"
      ]
     },
     "metadata": {},
     "output_type": "display_data"
    },
    {
     "name": "stdout",
     "output_type": "stream",
     "text": [
      "Puma Men Schon Polo Green T-shirt\n",
      "----------------------\n",
      "Trending 4 from seller 121\n"
     ]
    },
    {
     "data": {
      "image/png": "[encoded data removed]",
      "text/plain": [
       "<PIL.JpegImagePlugin.JpegImageFile image mode=RGB size=60x80>"
      ]
     },
     "metadata": {},
     "output_type": "display_data"
    },
    {
     "name": "stdout",
     "output_type": "stream",
     "text": [
      "Maxima Men White Dial Attivo Watch\n",
      "----------------------\n",
      "Trending 5 from seller 154\n"
     ]
    },
    {
     "data": {
      "image/png": "[encoded data removed]",
      "text/plain": [
       "<PIL.JpegImagePlugin.JpegImageFile image mode=RGB size=60x80>"
      ]
     },
     "metadata": {},
     "output_type": "display_data"
    },
    {
     "name": "stdout",
     "output_type": "stream",
     "text": [
      "Fastrack Men UV Protected Sporty Sunglasses\n",
      "----------------------\n",
      "Trending 6 from seller 124\n"
     ]
    },
    {
     "data": {
      "image/png": "[encoded data removed]",
      "text/plain": [
       "<PIL.JpegImagePlugin.JpegImageFile image mode=RGB size=60x80>"
      ]
     },
     "metadata": {},
     "output_type": "display_data"
    },
    {
     "name": "stdout",
     "output_type": "stream",
     "text": [
      "Louis Philippe Men Oversized Sunglasses LP226-C4\n",
      "----------------------\n",
      "Trending 7 from seller 43\n"
     ]
    },
    {
     "data": {
      "image/png": "[encoded data removed]",
      "text/plain": [
       "<PIL.JpegImagePlugin.JpegImageFile image mode=RGB size=60x80>"
      ]
     },
     "metadata": {},
     "output_type": "display_data"
    },
    {
     "name": "stdout",
     "output_type": "stream",
     "text": [
      "Levi's Men Graphic Print Green Tshirt\n",
      "----------------------\n",
      "Trending 8 from seller 193\n"
     ]
    },
    {
     "data": {
      "image/png": "[encoded data removed]",
      "text/plain": [
       "<PIL.JpegImagePlugin.JpegImageFile image mode=RGB size=60x80>"
      ]
     },
     "metadata": {},
     "output_type": "display_data"
    },
    {
     "name": "stdout",
     "output_type": "stream",
     "text": [
      "Gini and Jony Girls Woven Blue Shorts\n",
      "----------------------\n",
      "Trending 9 from seller 53\n"
     ]
    },
    {
     "data": {
      "image/png": "[encoded data removed]",
      "text/plain": [
       "<PIL.JpegImagePlugin.JpegImageFile image mode=RGB size=60x80>"
      ]
     },
     "metadata": {},
     "output_type": "display_data"
    },
    {
     "name": "stdout",
     "output_type": "stream",
     "text": [
      "Urban Yoga Women Printed Rust T-shirt\n",
      "----------------------\n",
      "Trending 10 from seller 74\n"
     ]
    },
    {
     "data": {
      "image/png": "[encoded data removed]",
      "text/plain": [
       "<PIL.JpegImagePlugin.JpegImageFile image mode=RGB size=60x80>"
      ]
     },
     "metadata": {},
     "output_type": "display_data"
    },
    {
     "name": "stdout",
     "output_type": "stream",
     "text": [
      "Sepia Women Teal Tops\n",
      "----------------------\n"
     ]
    }
   ],
   "source": [
    "from PIL import Image\n",
    "from IPython.display import display\n",
    "\n",
    "# Iterate over the sorted DataFrame and display the images\n",
    "for index, row in top10_fashions.head(10).iterrows():\n",
    "    image_path = row['image_path']\n",
    "    image_name = row['productDisplayName']\n",
    "    image_seller = row['seller_id']\n",
    "    image_no = row['no']\n",
    "    image = Image.open(image_path)\n",
    "    print(f\"Trending {image_no} from seller {image_seller}\")\n",
    "    display(image)\n",
    "    print(image_name)\n",
    "    print(\"----------------------\")"
   ]
  },
  {
   "cell_type": "code",
   "execution_count": 26,
   "id": "c4e5d4b8",
   "metadata": {},
   "outputs": [],
   "source": [
    "# Collaborative Filtering\n"
   ]
  },
  {
   "cell_type": "code",
   "execution_count": 27,
   "id": "bb98edb9",
   "metadata": {},
   "outputs": [],
   "source": [
    "# from surprise import Reader, Dataset, SVD, evaluate\n",
    "\n",
    "# data = Dataset.load_from_df(user_ratings[['user_id', 'fashion_id', 'ratings']], reader)\n",
    "# data.split(n_folds=5)"
   ]
  }
 ],
 "metadata": {
  "kernelspec": {
   "display_name": "Python 3 (ipykernel)",
   "language": "python",
   "name": "python3"
  },
  "language_info": {
   "codemirror_mode": {
    "name": "ipython",
    "version": 3
   },
   "file_extension": ".py",
   "mimetype": "text/x-python",
   "name": "python",
   "nbconvert_exporter": "python",
   "pygments_lexer": "ipython3",
   "version": "3.9.13"
  }
 },
 "nbformat": 4,
 "nbformat_minor": 5
}
