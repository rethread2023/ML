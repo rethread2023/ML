{
 "cells": [
  {
   "cell_type": "code",
   "execution_count": 2,
   "metadata": {},
   "outputs": [],
   "source": [
    "#Import Modul\n",
    "import pandas as pd\n",
    "import os\n",
    "import numpy as np\n",
    "import tensorflow as tf\n",
    "from tensorflow.keras.preprocessing.image import ImageDataGenerator\n",
    "from tensorflow.keras.models import Sequential\n",
    "from tensorflow.keras.layers import Conv2D, MaxPooling2D, Flatten, Dense\n",
    "from tensorflow.keras.preprocessing.image import img_to_array, load_img\n",
    "import tensorflow.keras.datasets as tfds"
   ]
  },
  {
   "cell_type": "code",
   "execution_count": 3,
   "metadata": {},
   "outputs": [],
   "source": [
    "# Load Fashion-MNIST dataset\n",
    "(train_images_mnist, train_labels_mnist), (test_images_mnist, test_labels_mnist) = tfds.fashion_mnist.load_data()"
   ]
  },
  {
   "cell_type": "code",
   "execution_count": 4,
   "metadata": {},
   "outputs": [],
   "source": [
    "# Load the styles.csv file\n",
    "styles_df = pd.read_csv('mytradataset/styles.csv')\n",
    "\n",
    "# Define the target size for resizing (e.g., 28x28 for Fashion-MNIST)\n",
    "target_size = (28, 28)\n",
    "\n",
    "# Load and preprocess the images from the Image folder\n",
    "image_folder_path = 'mytradataset/images/'\n",
    "image_data = []\n",
    "for image_entry in styles_df['articleType']:\n",
    "    image_name = image_entry.split(',')[3]  # the image category is the fourth entry in the column\n",
    "    image_path = image_folder_path + image_name\n",
    "    image = load_img(image_path)\n",
    "    image = img_to_array(image)\n",
    "    image = tf.image.resize(image, target_size)  # Resize the image using tf.image.resize\n",
    "    image_data.append(image)\n",
    "image_data = np.array(image_data)\n",
    "\n",
    "# Extract the labels from styles.csv\n",
    "labels = styles_df['label_column']\n",
    "\n",
    "# Ensure the labels are in numeric format if needed\n",
    "# You may need to convert string labels to numeric values\n",
    "\n",
    "# Perform any necessary preprocessing on the labels\n",
    "\n",
    "# Convert labels to numpy array\n",
    "labels = np.array(labels)"
   ]
  }
 ],
 "metadata": {
  "kernelspec": {
   "display_name": "Python 3",
   "language": "python",
   "name": "python3"
  },
  "language_info": {
   "codemirror_mode": {
    "name": "ipython",
    "version": 3
   },
   "file_extension": ".py",
   "mimetype": "text/x-python",
   "name": "python",
   "nbconvert_exporter": "python",
   "pygments_lexer": "ipython3",
   "version": "3.10.7"
  },
  "orig_nbformat": 4
 },
 "nbformat": 4,
 "nbformat_minor": 2
}
