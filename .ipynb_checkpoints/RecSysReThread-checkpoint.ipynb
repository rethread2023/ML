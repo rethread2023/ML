{
 "cells": [
  {
   "cell_type": "code",
   "execution_count": 1,
   "id": "e5a5338b",
   "metadata": {},
   "outputs": [
    {
     "name": "stdout",
     "output_type": "stream",
     "text": [
      "Collecting scikit-surprise==1.0.4\n",
      "  Using cached scikit-surprise-1.0.4.tar.gz (2.3 MB)\n",
      "  Preparing metadata (setup.py): started\n",
      "  Preparing metadata (setup.py): finished with status 'done'\n",
      "Requirement already satisfied: numpy>=1.11.2 in c:\\users\\ichlas\\anaconda3\\lib\\site-packages (from scikit-surprise==1.0.4) (1.21.5)\n",
      "Requirement already satisfied: six>=1.10.0 in c:\\users\\ichlas\\anaconda3\\lib\\site-packages (from scikit-surprise==1.0.4) (1.16.0)\n",
      "Building wheels for collected packages: scikit-surprise\n",
      "  Building wheel for scikit-surprise (setup.py): started\n",
      "  Building wheel for scikit-surprise (setup.py): finished with status 'error'\n",
      "  Running setup.py clean for scikit-surprise\n",
      "Failed to build scikit-surprise\n",
      "Installing collected packages: scikit-surprise\n",
      "  Running setup.py install for scikit-surprise: started\n",
      "  Running setup.py install for scikit-surprise: finished with status 'error'\n"
     ]
    },
    {
     "name": "stderr",
     "output_type": "stream",
     "text": [
      "  error: subprocess-exited-with-error\n",
      "  \n",
      "  python setup.py bdist_wheel did not run successfully.\n",
      "  exit code: 1\n",
      "  \n",
      "  [70 lines of output]\n",
      "  C:\\Users\\Ichlas\\anaconda3\\lib\\site-packages\\setuptools\\dist.py:771: UserWarning: Usage of dash-separated 'description-file' will not be supported in future versions. Please use the underscore name 'description_file' instead\n",
      "    warnings.warn(\n",
      "  running bdist_wheel\n",
      "  running build\n",
      "  running build_py\n",
      "  creating build\n",
      "  creating build\\lib.win-amd64-cpython-39\n",
      "  creating build\\lib.win-amd64-cpython-39\\surprise\n",
      "  copying surprise\\accuracy.py -> build\\lib.win-amd64-cpython-39\\surprise\n",
      "  copying surprise\\dataset.py -> build\\lib.win-amd64-cpython-39\\surprise\n",
      "  copying surprise\\dump.py -> build\\lib.win-amd64-cpython-39\\surprise\n",
      "  copying surprise\\evaluate.py -> build\\lib.win-amd64-cpython-39\\surprise\n",
      "  copying surprise\\__init__.py -> build\\lib.win-amd64-cpython-39\\surprise\n",
      "  copying surprise\\__main__.py -> build\\lib.win-amd64-cpython-39\\surprise\n",
      "  creating build\\lib.win-amd64-cpython-39\\surprise\\prediction_algorithms\n",
      "  copying surprise\\prediction_algorithms\\algo_base.py -> build\\lib.win-amd64-cpython-39\\surprise\\prediction_algorithms\n",
      "  copying surprise\\prediction_algorithms\\baseline_only.py -> build\\lib.win-amd64-cpython-39\\surprise\\prediction_algorithms\n",
      "  copying surprise\\prediction_algorithms\\knns.py -> build\\lib.win-amd64-cpython-39\\surprise\\prediction_algorithms\n",
      "  copying surprise\\prediction_algorithms\\predictions.py -> build\\lib.win-amd64-cpython-39\\surprise\\prediction_algorithms\n",
      "  copying surprise\\prediction_algorithms\\random_pred.py -> build\\lib.win-amd64-cpython-39\\surprise\\prediction_algorithms\n",
      "  copying surprise\\prediction_algorithms\\__init__.py -> build\\lib.win-amd64-cpython-39\\surprise\\prediction_algorithms\n",
      "  running egg_info\n",
      "  writing scikit_surprise.egg-info\\PKG-INFO\n",
      "  writing dependency_links to scikit_surprise.egg-info\\dependency_links.txt\n",
      "  writing entry points to scikit_surprise.egg-info\\entry_points.txt\n",
      "  writing requirements to scikit_surprise.egg-info\\requires.txt\n",
      "  writing top-level names to scikit_surprise.egg-info\\top_level.txt\n",
      "  reading manifest file 'scikit_surprise.egg-info\\SOURCES.txt'\n",
      "  reading manifest template 'MANIFEST.in'\n",
      "  adding license file 'LICENSE.md'\n",
      "  writing manifest file 'scikit_surprise.egg-info\\SOURCES.txt'\n",
      "  C:\\Users\\Ichlas\\anaconda3\\lib\\site-packages\\setuptools\\command\\build_py.py:153: SetuptoolsDeprecationWarning:     Installing 'surprise.prediction_algorithms' as data is deprecated, please list it in `packages`.\n",
      "      !!\n",
      "  \n",
      "  \n",
      "      ############################\n",
      "      # Package would be ignored #\n",
      "      ############################\n",
      "      Python recognizes 'surprise.prediction_algorithms' as an importable package,\n",
      "      but it is not listed in the `packages` configuration of setuptools.\n",
      "  \n",
      "      'surprise.prediction_algorithms' has been automatically added to the distribution only\n",
      "      because it may contain data files, but this behavior is likely to change\n",
      "      in future versions of setuptools (and therefore is considered deprecated).\n",
      "  \n",
      "      Please make sure that 'surprise.prediction_algorithms' is included as a package by using\n",
      "      the `packages` configuration field or the proper discovery methods\n",
      "      (for example by using `find_namespace_packages(...)`/`find_namespace:`\n",
      "      instead of `find_packages(...)`/`find:`).\n",
      "  \n",
      "      You can read more about \"package discovery\" and \"data files\" on setuptools\n",
      "      documentation page.\n",
      "  \n",
      "  \n",
      "  !!\n",
      "  \n",
      "    check.warn(importable)\n",
      "  copying surprise\\similarities.c -> build\\lib.win-amd64-cpython-39\\surprise\n",
      "  copying surprise\\similarities.pyx -> build\\lib.win-amd64-cpython-39\\surprise\n",
      "  copying surprise\\prediction_algorithms\\co_clustering.c -> build\\lib.win-amd64-cpython-39\\surprise\\prediction_algorithms\n",
      "  copying surprise\\prediction_algorithms\\matrix_factorization.c -> build\\lib.win-amd64-cpython-39\\surprise\\prediction_algorithms\n",
      "  copying surprise\\prediction_algorithms\\optimize_baselines.c -> build\\lib.win-amd64-cpython-39\\surprise\\prediction_algorithms\n",
      "  copying surprise\\prediction_algorithms\\slope_one.c -> build\\lib.win-amd64-cpython-39\\surprise\\prediction_algorithms\n",
      "  copying surprise\\prediction_algorithms\\co_clustering.pyx -> build\\lib.win-amd64-cpython-39\\surprise\\prediction_algorithms\n",
      "  copying surprise\\prediction_algorithms\\matrix_factorization.pyx -> build\\lib.win-amd64-cpython-39\\surprise\\prediction_algorithms\n",
      "  copying surprise\\prediction_algorithms\\optimize_baselines.pyx -> build\\lib.win-amd64-cpython-39\\surprise\\prediction_algorithms\n",
      "  copying surprise\\prediction_algorithms\\slope_one.pyx -> build\\lib.win-amd64-cpython-39\\surprise\\prediction_algorithms\n",
      "  running build_ext\n",
      "  building 'surprise.similarities' extension\n",
      "  error: Microsoft Visual C++ 14.0 or greater is required. Get it with \"Microsoft C++ Build Tools\": https://visualstudio.microsoft.com/visual-cpp-build-tools/\n",
      "  [end of output]\n",
      "  \n",
      "  note: This error originates from a subprocess, and is likely not a problem with pip.\n",
      "  ERROR: Failed building wheel for scikit-surprise\n",
      "  error: subprocess-exited-with-error\n",
      "  \n",
      "  Running setup.py install for scikit-surprise did not run successfully.\n",
      "  exit code: 1\n",
      "  \n",
      "  [72 lines of output]\n",
      "  C:\\Users\\Ichlas\\anaconda3\\lib\\site-packages\\setuptools\\dist.py:771: UserWarning: Usage of dash-separated 'description-file' will not be supported in future versions. Please use the underscore name 'description_file' instead\n",
      "    warnings.warn(\n",
      "  running install\n",
      "  C:\\Users\\Ichlas\\anaconda3\\lib\\site-packages\\setuptools\\command\\install.py:34: SetuptoolsDeprecationWarning: setup.py install is deprecated. Use build and pip and other standards-based tools.\n",
      "    warnings.warn(\n",
      "  running build\n",
      "  running build_py\n",
      "  creating build\n",
      "  creating build\\lib.win-amd64-cpython-39\n",
      "  creating build\\lib.win-amd64-cpython-39\\surprise\n",
      "  copying surprise\\accuracy.py -> build\\lib.win-amd64-cpython-39\\surprise\n",
      "  copying surprise\\dataset.py -> build\\lib.win-amd64-cpython-39\\surprise\n",
      "  copying surprise\\dump.py -> build\\lib.win-amd64-cpython-39\\surprise\n",
      "  copying surprise\\evaluate.py -> build\\lib.win-amd64-cpython-39\\surprise\n",
      "  copying surprise\\__init__.py -> build\\lib.win-amd64-cpython-39\\surprise\n",
      "  copying surprise\\__main__.py -> build\\lib.win-amd64-cpython-39\\surprise\n",
      "  creating build\\lib.win-amd64-cpython-39\\surprise\\prediction_algorithms\n",
      "  copying surprise\\prediction_algorithms\\algo_base.py -> build\\lib.win-amd64-cpython-39\\surprise\\prediction_algorithms\n",
      "  copying surprise\\prediction_algorithms\\baseline_only.py -> build\\lib.win-amd64-cpython-39\\surprise\\prediction_algorithms\n",
      "  copying surprise\\prediction_algorithms\\knns.py -> build\\lib.win-amd64-cpython-39\\surprise\\prediction_algorithms\n",
      "  copying surprise\\prediction_algorithms\\predictions.py -> build\\lib.win-amd64-cpython-39\\surprise\\prediction_algorithms\n",
      "  copying surprise\\prediction_algorithms\\random_pred.py -> build\\lib.win-amd64-cpython-39\\surprise\\prediction_algorithms\n",
      "  copying surprise\\prediction_algorithms\\__init__.py -> build\\lib.win-amd64-cpython-39\\surprise\\prediction_algorithms\n",
      "  running egg_info\n",
      "  writing scikit_surprise.egg-info\\PKG-INFO\n",
      "  writing dependency_links to scikit_surprise.egg-info\\dependency_links.txt\n",
      "  writing entry points to scikit_surprise.egg-info\\entry_points.txt\n",
      "  writing requirements to scikit_surprise.egg-info\\requires.txt\n",
      "  writing top-level names to scikit_surprise.egg-info\\top_level.txt\n",
      "  reading manifest file 'scikit_surprise.egg-info\\SOURCES.txt'\n",
      "  reading manifest template 'MANIFEST.in'\n",
      "  adding license file 'LICENSE.md'\n",
      "  writing manifest file 'scikit_surprise.egg-info\\SOURCES.txt'\n",
      "  C:\\Users\\Ichlas\\anaconda3\\lib\\site-packages\\setuptools\\command\\build_py.py:153: SetuptoolsDeprecationWarning:     Installing 'surprise.prediction_algorithms' as data is deprecated, please list it in `packages`.\n",
      "      !!\n",
      "  \n",
      "  \n",
      "      ############################\n",
      "      # Package would be ignored #\n",
      "      ############################\n",
      "      Python recognizes 'surprise.prediction_algorithms' as an importable package,\n",
      "      but it is not listed in the `packages` configuration of setuptools.\n",
      "  \n",
      "      'surprise.prediction_algorithms' has been automatically added to the distribution only\n",
      "      because it may contain data files, but this behavior is likely to change\n",
      "      in future versions of setuptools (and therefore is considered deprecated).\n",
      "  \n",
      "      Please make sure that 'surprise.prediction_algorithms' is included as a package by using\n",
      "      the `packages` configuration field or the proper discovery methods\n",
      "      (for example by using `find_namespace_packages(...)`/`find_namespace:`\n",
      "      instead of `find_packages(...)`/`find:`).\n",
      "  \n",
      "      You can read more about \"package discovery\" and \"data files\" on setuptools\n",
      "      documentation page.\n",
      "  \n",
      "  \n",
      "  !!\n",
      "  \n",
      "    check.warn(importable)\n",
      "  copying surprise\\similarities.c -> build\\lib.win-amd64-cpython-39\\surprise\n",
      "  copying surprise\\similarities.pyx -> build\\lib.win-amd64-cpython-39\\surprise\n",
      "  copying surprise\\prediction_algorithms\\co_clustering.c -> build\\lib.win-amd64-cpython-39\\surprise\\prediction_algorithms\n",
      "  copying surprise\\prediction_algorithms\\matrix_factorization.c -> build\\lib.win-amd64-cpython-39\\surprise\\prediction_algorithms\n",
      "  copying surprise\\prediction_algorithms\\optimize_baselines.c -> build\\lib.win-amd64-cpython-39\\surprise\\prediction_algorithms\n",
      "  copying surprise\\prediction_algorithms\\slope_one.c -> build\\lib.win-amd64-cpython-39\\surprise\\prediction_algorithms\n",
      "  copying surprise\\prediction_algorithms\\co_clustering.pyx -> build\\lib.win-amd64-cpython-39\\surprise\\prediction_algorithms\n",
      "  copying surprise\\prediction_algorithms\\matrix_factorization.pyx -> build\\lib.win-amd64-cpython-39\\surprise\\prediction_algorithms\n",
      "  copying surprise\\prediction_algorithms\\optimize_baselines.pyx -> build\\lib.win-amd64-cpython-39\\surprise\\prediction_algorithms\n",
      "  copying surprise\\prediction_algorithms\\slope_one.pyx -> build\\lib.win-amd64-cpython-39\\surprise\\prediction_algorithms\n",
      "  running build_ext\n",
      "  building 'surprise.similarities' extension\n",
      "  error: Microsoft Visual C++ 14.0 or greater is required. Get it with \"Microsoft C++ Build Tools\": https://visualstudio.microsoft.com/visual-cpp-build-tools/\n",
      "  [end of output]\n",
      "  \n",
      "  note: This error originates from a subprocess, and is likely not a problem with pip.\n",
      "error: legacy-install-failure\n",
      "\n",
      "Encountered error while trying to install package.\n",
      "\n",
      "scikit-surprise\n",
      "\n",
      "note: This is an issue with the package mentioned above, not pip.\n",
      "hint: See above for output from the failure.\n"
     ]
    }
   ],
   "source": [
    "!pip install scikit-surprise==1.0.4"
   ]
  },
  {
   "cell_type": "code",
   "execution_count": 1,
   "id": "0bc21194",
   "metadata": {},
   "outputs": [],
   "source": [
    "import pandas as pd\n",
    "import random\n",
    "import numpy as np\n",
    "\n",
    "from sklearn.metrics.pairwise import cosine_similarity"
   ]
  },
  {
   "cell_type": "code",
   "execution_count": 2,
   "id": "91978ea1",
   "metadata": {},
   "outputs": [
    {
     "data": {
      "text/plain": [
       "'C:\\\\Users\\\\Ichlas\\\\Desktop\\\\ReThread\\\\ReThread'"
      ]
     },
     "execution_count": 2,
     "metadata": {},
     "output_type": "execute_result"
    }
   ],
   "source": [
    "import os\n",
    "os.getcwd()"
   ]
  },
  {
   "cell_type": "code",
   "execution_count": 3,
   "id": "837cbf2b",
   "metadata": {},
   "outputs": [
    {
     "name": "stdout",
     "output_type": "stream",
     "text": [
      "      id gender masterCategory subCategory  articleType baseColour  season  \\\n",
      "0  15970    Men        Apparel     Topwear       Shirts  Navy Blue    Fall   \n",
      "1  39386    Men        Apparel  Bottomwear        Jeans       Blue  Summer   \n",
      "2  59263  Women    Accessories     Watches      Watches     Silver  Winter   \n",
      "3  21379    Men        Apparel  Bottomwear  Track Pants      Black    Fall   \n",
      "4  53759    Men        Apparel     Topwear      Tshirts       Grey  Summer   \n",
      "\n",
      "     year   usage                             productDisplayName  \n",
      "0  2011.0  Casual               Turtle Check Men Navy Blue Shirt  \n",
      "1  2012.0  Casual             Peter England Men Party Blue Jeans  \n",
      "2  2016.0  Casual                       Titan Women Silver Watch  \n",
      "3  2011.0  Casual  Manchester United Men Solid Black Track Pants  \n",
      "4  2012.0  Casual                          Puma Men Grey T-shirt  \n"
     ]
    }
   ],
   "source": [
    "# Path to the CSV file\n",
    "csv_file_path = './FashionProductImages.csv'\n",
    "image_folder = './myntradataset/images/'\n",
    "\n",
    "# Read the CSV file into a DataFrame\n",
    "df_old = pd.read_csv(csv_file_path, on_bad_lines='skip')\n",
    "\n",
    "# Display the first few rows of the DataFrame\n",
    "print(df_old.head())"
   ]
  },
  {
   "cell_type": "code",
   "execution_count": 4,
   "id": "ea8bf102",
   "metadata": {},
   "outputs": [
    {
     "name": "stdout",
     "output_type": "stream",
     "text": [
      "      id gender masterCategory subCategory  articleType baseColour  season  \\\n",
      "0  15970    Men        Apparel     Topwear       Shirts  Navy Blue    Fall   \n",
      "1  39386    Men        Apparel  Bottomwear        Jeans       Blue  Summer   \n",
      "2  59263  Women    Accessories     Watches      Watches     Silver  Winter   \n",
      "3  21379    Men        Apparel  Bottomwear  Track Pants      Black    Fall   \n",
      "4  53759    Men        Apparel     Topwear      Tshirts       Grey  Summer   \n",
      "\n",
      "     year   usage                             productDisplayName  seller_id  \\\n",
      "0  2011.0  Casual               Turtle Check Men Navy Blue Shirt        116   \n",
      "1  2012.0  Casual             Peter England Men Party Blue Jeans        178   \n",
      "2  2016.0  Casual                       Titan Women Silver Watch        115   \n",
      "3  2011.0  Casual  Manchester United Men Solid Black Track Pants        174   \n",
      "4  2012.0  Casual                          Puma Men Grey T-shirt         43   \n",
      "\n",
      "   num_of_products  \n",
      "0              227  \n",
      "1              246  \n",
      "2              203  \n",
      "3              219  \n",
      "4              216  \n"
     ]
    }
   ],
   "source": [
    "# Generate random user IDs\n",
    "df_old['seller_id'] = np.random.randint(1, 200, size=len(df_old))\n",
    "df_old['num_of_products'] = df_old.groupby('seller_id')['id'].transform('count')\n",
    "print(df_old.head())"
   ]
  },
  {
   "cell_type": "code",
   "execution_count": 7,
   "id": "8715d75d",
   "metadata": {},
   "outputs": [
    {
     "name": "stdout",
     "output_type": "stream",
     "text": [
      "   user_id  fashion_id  ratings  rated_sellers_id\n",
      "0      178       34689      1.3               125\n",
      "1       66       45422      4.6               143\n",
      "2      476       47181      2.3                95\n",
      "3       94       17961      1.6                85\n",
      "4      206       16114      2.4               149\n"
     ]
    }
   ],
   "source": [
    "# Creating users dataset\n",
    "\n",
    "# Set the number of users and total dataset size\n",
    "num_users = 500\n",
    "dataset_size = 5000\n",
    "\n",
    "# Generate random user IDs\n",
    "user_ids = np.random.randint(1, num_users + 1, size=dataset_size)\n",
    "        \n",
    "# Randomly select fashion IDs from 'df_old' dataset\n",
    "fashion_ids = np.random.choice(df_old['id'], size=dataset_size)\n",
    "\n",
    "# Generate random ratings between 0.0 and 5.0\n",
    "ratings = np.random.uniform(0.0, 5.0, size=dataset_size)\n",
    "rounded_ratings = np.round(ratings, decimals=1)\n",
    "\n",
    "rated_sellers_ids = np.random.randint(1, 201, size=dataset_size)\n",
    "\n",
    "# Create the user dataset DataFrame\n",
    "user_ratings = pd.DataFrame({\n",
    "    'user_id': user_ids,\n",
    "    'fashion_id': fashion_ids,\n",
    "    'ratings': rounded_ratings,\n",
    "    'rated_sellers_id': rated_sellers_ids\n",
    "})\n",
    "\n",
    "# Display the user dataset\n",
    "print(user_ratings.head())"
   ]
  },
  {
   "cell_type": "code",
   "execution_count": 8,
   "id": "bfa9f1e6",
   "metadata": {},
   "outputs": [
    {
     "name": "stdout",
     "output_type": "stream",
     "text": [
      "   seller_id  seller_ratings  num_of_reviewers\n",
      "0          1             2.8                29\n",
      "1          2             2.4                28\n",
      "2          3             2.6                20\n",
      "3          4             2.6                36\n",
      "4          5             3.1                17\n"
     ]
    }
   ],
   "source": [
    "# Creating sellers dataset\n",
    "\n",
    "# Set the number of users and total dataset size\n",
    "num_sellers = 200\n",
    "dataset_size = 200\n",
    "\n",
    "# Generate random user IDs\n",
    "seller_ids = np.arange(1, num_sellers + 1)\n",
    "\n",
    "# Calculate average ratings for each seller from 'user_ratings' dataset\n",
    "average_ratings = user_ratings.groupby('rated_sellers_id')['ratings'].mean().values\n",
    "rounded_ratings = np.round(average_ratings, decimals=1)\n",
    "\n",
    "# Calculate the number of reviewers for each seller from 'user_ratings' dataset\n",
    "num_reviewers = user_ratings['rated_sellers_id'].value_counts().sort_index().values\n",
    "\n",
    "# Create the user dataset DataFrame\n",
    "seller_ratings = pd.DataFrame({\n",
    "    'seller_id': seller_ids,\n",
    "    'seller_ratings': rounded_ratings,\n",
    "    'num_of_reviewers': num_reviewers\n",
    "})\n",
    "\n",
    "# Display the user dataset\n",
    "print(seller_ratings.head())"
   ]
  },
  {
   "cell_type": "code",
   "execution_count": 9,
   "id": "6dc2d3f4",
   "metadata": {},
   "outputs": [
    {
     "name": "stdout",
     "output_type": "stream",
     "text": [
      "      id gender masterCategory subCategory  articleType baseColour  season  \\\n",
      "0  15970    Men        Apparel     Topwear       Shirts  Navy Blue    Fall   \n",
      "1  39386    Men        Apparel  Bottomwear        Jeans       Blue  Summer   \n",
      "2  59263  Women    Accessories     Watches      Watches     Silver  Winter   \n",
      "3  21379    Men        Apparel  Bottomwear  Track Pants      Black    Fall   \n",
      "4  53759    Men        Apparel     Topwear      Tshirts       Grey  Summer   \n",
      "\n",
      "     year   usage                             productDisplayName  seller_id  \\\n",
      "0  2011.0  Casual               Turtle Check Men Navy Blue Shirt         34   \n",
      "1  2012.0  Casual             Peter England Men Party Blue Jeans        180   \n",
      "2  2016.0  Casual                       Titan Women Silver Watch         37   \n",
      "3  2011.0  Casual  Manchester United Men Solid Black Track Pants          7   \n",
      "4  2012.0  Casual                          Puma Men Grey T-shirt         58   \n",
      "\n",
      "   num_of_products  seller_ratings  num_of_reviewers  \n",
      "0              199             2.6                35  \n",
      "1              227             2.5                18  \n",
      "2              236             2.6                31  \n",
      "3              239             2.1                19  \n",
      "4              233             2.7                21  \n"
     ]
    }
   ],
   "source": [
    "# Merge the 'seller_ratings' dataset with the other dataset based on 'seller_id'\n",
    "df = pd.merge(df_old, seller_ratings[['seller_id', 'seller_ratings', 'num_of_reviewers']], on='seller_id', how='left')\n",
    "\n",
    "# Display the merged dataset\n",
    "print(df.head())"
   ]
  },
  {
   "cell_type": "code",
   "execution_count": 10,
   "id": "abe7aae1",
   "metadata": {},
   "outputs": [
    {
     "name": "stdout",
     "output_type": "stream",
     "text": [
      "   seller_id  seller_ratings  num_of_reviewers  num_of_products\n",
      "0          1             2.8                29            242.0\n",
      "1          1             2.8                29            242.0\n",
      "2          1             2.8                29            242.0\n",
      "3          1             2.8                29            242.0\n",
      "4          1             2.8                29            242.0\n"
     ]
    }
   ],
   "source": [
    "seller_ratings = pd.merge(seller_ratings, df_old[['seller_id', 'num_of_products']], on='seller_id', how='left')\n",
    "# Display the user dataset\n",
    "print(seller_ratings.head())"
   ]
  },
  {
   "cell_type": "code",
   "execution_count": 11,
   "id": "707ed411",
   "metadata": {},
   "outputs": [],
   "source": [
    "def get_image_path(row):\n",
    "    image_id = row['id']\n",
    "    image_path = os.path.join(image_folder, str(image_id) + '.jpg')\n",
    "    return image_path"
   ]
  },
  {
   "cell_type": "code",
   "execution_count": 12,
   "id": "096411be",
   "metadata": {},
   "outputs": [
    {
     "data": {
      "text/html": [
       "<div>\n",
       "<style scoped>\n",
       "    .dataframe tbody tr th:only-of-type {\n",
       "        vertical-align: middle;\n",
       "    }\n",
       "\n",
       "    .dataframe tbody tr th {\n",
       "        vertical-align: top;\n",
       "    }\n",
       "\n",
       "    .dataframe thead th {\n",
       "        text-align: right;\n",
       "    }\n",
       "</style>\n",
       "<table border=\"1\" class=\"dataframe\">\n",
       "  <thead>\n",
       "    <tr style=\"text-align: right;\">\n",
       "      <th></th>\n",
       "      <th>id</th>\n",
       "      <th>gender</th>\n",
       "      <th>masterCategory</th>\n",
       "      <th>subCategory</th>\n",
       "      <th>articleType</th>\n",
       "      <th>baseColour</th>\n",
       "      <th>season</th>\n",
       "      <th>year</th>\n",
       "      <th>usage</th>\n",
       "      <th>productDisplayName</th>\n",
       "      <th>seller_id</th>\n",
       "      <th>num_of_products</th>\n",
       "      <th>seller_ratings</th>\n",
       "      <th>num_of_reviewers</th>\n",
       "      <th>image_path</th>\n",
       "    </tr>\n",
       "  </thead>\n",
       "  <tbody>\n",
       "    <tr>\n",
       "      <th>0</th>\n",
       "      <td>15970</td>\n",
       "      <td>Men</td>\n",
       "      <td>Apparel</td>\n",
       "      <td>Topwear</td>\n",
       "      <td>Shirts</td>\n",
       "      <td>Navy Blue</td>\n",
       "      <td>Fall</td>\n",
       "      <td>2011.0</td>\n",
       "      <td>Casual</td>\n",
       "      <td>Turtle Check Men Navy Blue Shirt</td>\n",
       "      <td>34</td>\n",
       "      <td>199</td>\n",
       "      <td>2.6</td>\n",
       "      <td>35</td>\n",
       "      <td>./images/15970.jpg</td>\n",
       "    </tr>\n",
       "    <tr>\n",
       "      <th>1</th>\n",
       "      <td>39386</td>\n",
       "      <td>Men</td>\n",
       "      <td>Apparel</td>\n",
       "      <td>Bottomwear</td>\n",
       "      <td>Jeans</td>\n",
       "      <td>Blue</td>\n",
       "      <td>Summer</td>\n",
       "      <td>2012.0</td>\n",
       "      <td>Casual</td>\n",
       "      <td>Peter England Men Party Blue Jeans</td>\n",
       "      <td>180</td>\n",
       "      <td>227</td>\n",
       "      <td>2.5</td>\n",
       "      <td>18</td>\n",
       "      <td>./images/39386.jpg</td>\n",
       "    </tr>\n",
       "    <tr>\n",
       "      <th>2</th>\n",
       "      <td>59263</td>\n",
       "      <td>Women</td>\n",
       "      <td>Accessories</td>\n",
       "      <td>Watches</td>\n",
       "      <td>Watches</td>\n",
       "      <td>Silver</td>\n",
       "      <td>Winter</td>\n",
       "      <td>2016.0</td>\n",
       "      <td>Casual</td>\n",
       "      <td>Titan Women Silver Watch</td>\n",
       "      <td>37</td>\n",
       "      <td>236</td>\n",
       "      <td>2.6</td>\n",
       "      <td>31</td>\n",
       "      <td>./images/59263.jpg</td>\n",
       "    </tr>\n",
       "    <tr>\n",
       "      <th>3</th>\n",
       "      <td>21379</td>\n",
       "      <td>Men</td>\n",
       "      <td>Apparel</td>\n",
       "      <td>Bottomwear</td>\n",
       "      <td>Track Pants</td>\n",
       "      <td>Black</td>\n",
       "      <td>Fall</td>\n",
       "      <td>2011.0</td>\n",
       "      <td>Casual</td>\n",
       "      <td>Manchester United Men Solid Black Track Pants</td>\n",
       "      <td>7</td>\n",
       "      <td>239</td>\n",
       "      <td>2.1</td>\n",
       "      <td>19</td>\n",
       "      <td>./images/21379.jpg</td>\n",
       "    </tr>\n",
       "    <tr>\n",
       "      <th>4</th>\n",
       "      <td>53759</td>\n",
       "      <td>Men</td>\n",
       "      <td>Apparel</td>\n",
       "      <td>Topwear</td>\n",
       "      <td>Tshirts</td>\n",
       "      <td>Grey</td>\n",
       "      <td>Summer</td>\n",
       "      <td>2012.0</td>\n",
       "      <td>Casual</td>\n",
       "      <td>Puma Men Grey T-shirt</td>\n",
       "      <td>58</td>\n",
       "      <td>233</td>\n",
       "      <td>2.7</td>\n",
       "      <td>21</td>\n",
       "      <td>./images/53759.jpg</td>\n",
       "    </tr>\n",
       "  </tbody>\n",
       "</table>\n",
       "</div>"
      ],
      "text/plain": [
       "      id gender masterCategory subCategory  articleType baseColour  season  \\\n",
       "0  15970    Men        Apparel     Topwear       Shirts  Navy Blue    Fall   \n",
       "1  39386    Men        Apparel  Bottomwear        Jeans       Blue  Summer   \n",
       "2  59263  Women    Accessories     Watches      Watches     Silver  Winter   \n",
       "3  21379    Men        Apparel  Bottomwear  Track Pants      Black    Fall   \n",
       "4  53759    Men        Apparel     Topwear      Tshirts       Grey  Summer   \n",
       "\n",
       "     year   usage                             productDisplayName  seller_id  \\\n",
       "0  2011.0  Casual               Turtle Check Men Navy Blue Shirt         34   \n",
       "1  2012.0  Casual             Peter England Men Party Blue Jeans        180   \n",
       "2  2016.0  Casual                       Titan Women Silver Watch         37   \n",
       "3  2011.0  Casual  Manchester United Men Solid Black Track Pants          7   \n",
       "4  2012.0  Casual                          Puma Men Grey T-shirt         58   \n",
       "\n",
       "   num_of_products  seller_ratings  num_of_reviewers          image_path  \n",
       "0              199             2.6                35  ./images/15970.jpg  \n",
       "1              227             2.5                18  ./images/39386.jpg  \n",
       "2              236             2.6                31  ./images/59263.jpg  \n",
       "3              239             2.1                19  ./images/21379.jpg  \n",
       "4              233             2.7                21  ./images/53759.jpg  "
      ]
     },
     "execution_count": 12,
     "metadata": {},
     "output_type": "execute_result"
    }
   ],
   "source": [
    "df['image_path'] = df.apply(get_image_path, axis=1)\n",
    "df.head()"
   ]
  },
  {
   "cell_type": "code",
   "execution_count": 13,
   "id": "260eabda",
   "metadata": {},
   "outputs": [
    {
     "data": {
      "text/plain": [
       "(44424, 15)"
      ]
     },
     "execution_count": 13,
     "metadata": {},
     "output_type": "execute_result"
    }
   ],
   "source": [
    "df.shape"
   ]
  },
  {
   "cell_type": "code",
   "execution_count": 14,
   "id": "2682a18c",
   "metadata": {
    "scrolled": true
   },
   "outputs": [
    {
     "name": "stdout",
     "output_type": "stream",
     "text": [
      "0    209\n",
      "1    232\n",
      "2     33\n",
      "3    183\n",
      "4      6\n",
      "Name: reviewers, dtype: int64\n",
      "0    0.8\n",
      "1    2.5\n",
      "2    1.9\n",
      "3    3.0\n",
      "4    1.3\n",
      "Name: ratings, dtype: float64\n"
     ]
    }
   ],
   "source": [
    "# Add a new label for number of reviewer and avarage reviews\n",
    "df['reviewers'] = [random.randint(1, 235) for _ in range(len(df))]\n",
    "df['ratings'] = [round(random.uniform(0, 5), 1) for _ in range(len(df))]\n",
    "\n",
    "print(df['reviewers'].head())\n",
    "print(df['ratings'].head())"
   ]
  },
  {
   "cell_type": "code",
   "execution_count": 15,
   "id": "5546eeff",
   "metadata": {},
   "outputs": [
    {
     "data": {
      "text/plain": [
       "2.4822483342338044"
      ]
     },
     "execution_count": 15,
     "metadata": {},
     "output_type": "execute_result"
    }
   ],
   "source": [
    "# Demographic Filtering = Recommendation based on popular sellers, will be displayed for new users\n",
    "C= df['seller_ratings'].mean()\n",
    "C"
   ]
  },
  {
   "cell_type": "code",
   "execution_count": 16,
   "id": "e399bad2",
   "metadata": {},
   "outputs": [
    {
     "data": {
      "text/plain": [
       "212.0"
      ]
     },
     "execution_count": 16,
     "metadata": {},
     "output_type": "execute_result"
    }
   ],
   "source": [
    "m= df['reviewers'].quantile(0.9)\n",
    "m"
   ]
  },
  {
   "cell_type": "code",
   "execution_count": 17,
   "id": "b15e2c15",
   "metadata": {},
   "outputs": [
    {
     "data": {
      "text/plain": [
       "(4608, 17)"
      ]
     },
     "execution_count": 17,
     "metadata": {},
     "output_type": "execute_result"
    }
   ],
   "source": [
    "# We will now make a new dataset of top trend clothings\n",
    "q_fashions = df.copy().loc[df['reviewers'] >= m]\n",
    "q_fashions.shape"
   ]
  },
  {
   "cell_type": "code",
   "execution_count": 18,
   "id": "347b9389",
   "metadata": {},
   "outputs": [],
   "source": [
    "# We will define a function, weighted_rating() and define a new feature score,\n",
    "# of which we'll calculate the value by applying this function to our DataFrame of top trend clothings:\n",
    "def weighted_rating(x, m=m, C=C):\n",
    "    v = x['reviewers']\n",
    "    R = x['ratings']\n",
    "    # Calculation based on the IMDB formula\n",
    "    return (v/(v+m) * R) + (m/(m+v) * C)"
   ]
  },
  {
   "cell_type": "code",
   "execution_count": 19,
   "id": "cf19338f",
   "metadata": {},
   "outputs": [],
   "source": [
    "# Define a new feature 'score' and calculate its value with `weighted_rating()`\n",
    "q_fashions['score'] = q_fashions.apply(weighted_rating, axis=1)"
   ]
  },
  {
   "cell_type": "code",
   "execution_count": 20,
   "id": "96bff4e7",
   "metadata": {},
   "outputs": [
    {
     "data": {
      "text/html": [
       "<div>\n",
       "<style scoped>\n",
       "    .dataframe tbody tr th:only-of-type {\n",
       "        vertical-align: middle;\n",
       "    }\n",
       "\n",
       "    .dataframe tbody tr th {\n",
       "        vertical-align: top;\n",
       "    }\n",
       "\n",
       "    .dataframe thead th {\n",
       "        text-align: right;\n",
       "    }\n",
       "</style>\n",
       "<table border=\"1\" class=\"dataframe\">\n",
       "  <thead>\n",
       "    <tr style=\"text-align: right;\">\n",
       "      <th></th>\n",
       "      <th>no</th>\n",
       "      <th>id</th>\n",
       "      <th>gender</th>\n",
       "      <th>masterCategory</th>\n",
       "      <th>subCategory</th>\n",
       "      <th>articleType</th>\n",
       "      <th>baseColour</th>\n",
       "      <th>season</th>\n",
       "      <th>year</th>\n",
       "      <th>usage</th>\n",
       "      <th>productDisplayName</th>\n",
       "      <th>seller_id</th>\n",
       "      <th>num_of_products</th>\n",
       "      <th>seller_ratings</th>\n",
       "      <th>num_of_reviewers</th>\n",
       "      <th>image_path</th>\n",
       "      <th>reviewers</th>\n",
       "      <th>ratings</th>\n",
       "      <th>score</th>\n",
       "    </tr>\n",
       "  </thead>\n",
       "  <tbody>\n",
       "    <tr>\n",
       "      <th>30493</th>\n",
       "      <td>1</td>\n",
       "      <td>53013</td>\n",
       "      <td>Women</td>\n",
       "      <td>Apparel</td>\n",
       "      <td>Saree</td>\n",
       "      <td>Sarees</td>\n",
       "      <td>Multi</td>\n",
       "      <td>Fall</td>\n",
       "      <td>2012.0</td>\n",
       "      <td>Ethnic</td>\n",
       "      <td>FNF Multi Coloured Sari</td>\n",
       "      <td>79</td>\n",
       "      <td>210</td>\n",
       "      <td>2.2</td>\n",
       "      <td>27</td>\n",
       "      <td>./images/53013.jpg</td>\n",
       "      <td>235</td>\n",
       "      <td>5.0</td>\n",
       "      <td>3.805899</td>\n",
       "    </tr>\n",
       "    <tr>\n",
       "      <th>5759</th>\n",
       "      <td>2</td>\n",
       "      <td>34785</td>\n",
       "      <td>Men</td>\n",
       "      <td>Footwear</td>\n",
       "      <td>Sandal</td>\n",
       "      <td>Sports Sandals</td>\n",
       "      <td>Grey</td>\n",
       "      <td>Summer</td>\n",
       "      <td>2012.0</td>\n",
       "      <td>Casual</td>\n",
       "      <td>Fila Men Benton Grey Sandals</td>\n",
       "      <td>139</td>\n",
       "      <td>229</td>\n",
       "      <td>2.5</td>\n",
       "      <td>22</td>\n",
       "      <td>./images/34785.jpg</td>\n",
       "      <td>235</td>\n",
       "      <td>5.0</td>\n",
       "      <td>3.805899</td>\n",
       "    </tr>\n",
       "    <tr>\n",
       "      <th>18925</th>\n",
       "      <td>3</td>\n",
       "      <td>26185</td>\n",
       "      <td>Women</td>\n",
       "      <td>Footwear</td>\n",
       "      <td>Shoes</td>\n",
       "      <td>Flats</td>\n",
       "      <td>Brown</td>\n",
       "      <td>Winter</td>\n",
       "      <td>2012.0</td>\n",
       "      <td>Casual</td>\n",
       "      <td>Rocia Women Brown Casual Sandals</td>\n",
       "      <td>29</td>\n",
       "      <td>229</td>\n",
       "      <td>3.1</td>\n",
       "      <td>22</td>\n",
       "      <td>./images/26185.jpg</td>\n",
       "      <td>235</td>\n",
       "      <td>5.0</td>\n",
       "      <td>3.805899</td>\n",
       "    </tr>\n",
       "    <tr>\n",
       "      <th>17150</th>\n",
       "      <td>4</td>\n",
       "      <td>32525</td>\n",
       "      <td>Men</td>\n",
       "      <td>Personal Care</td>\n",
       "      <td>Fragrance</td>\n",
       "      <td>Perfume and Body Mist</td>\n",
       "      <td>Silver</td>\n",
       "      <td>Spring</td>\n",
       "      <td>2017.0</td>\n",
       "      <td>Casual</td>\n",
       "      <td>Tonino Lamborghini Men Mitico Perfume</td>\n",
       "      <td>34</td>\n",
       "      <td>199</td>\n",
       "      <td>2.6</td>\n",
       "      <td>35</td>\n",
       "      <td>./images/32525.jpg</td>\n",
       "      <td>234</td>\n",
       "      <td>5.0</td>\n",
       "      <td>3.803221</td>\n",
       "    </tr>\n",
       "    <tr>\n",
       "      <th>3528</th>\n",
       "      <td>5</td>\n",
       "      <td>19787</td>\n",
       "      <td>Men</td>\n",
       "      <td>Apparel</td>\n",
       "      <td>Topwear</td>\n",
       "      <td>Tshirts</td>\n",
       "      <td>White</td>\n",
       "      <td>Winter</td>\n",
       "      <td>2016.0</td>\n",
       "      <td>Casual</td>\n",
       "      <td>U.S. Polo Assn. Men Solid White Tshirt</td>\n",
       "      <td>60</td>\n",
       "      <td>206</td>\n",
       "      <td>2.7</td>\n",
       "      <td>19</td>\n",
       "      <td>./images/19787.jpg</td>\n",
       "      <td>234</td>\n",
       "      <td>5.0</td>\n",
       "      <td>3.803221</td>\n",
       "    </tr>\n",
       "    <tr>\n",
       "      <th>34374</th>\n",
       "      <td>6</td>\n",
       "      <td>9935</td>\n",
       "      <td>Men</td>\n",
       "      <td>Apparel</td>\n",
       "      <td>Topwear</td>\n",
       "      <td>Tshirts</td>\n",
       "      <td>Navy Blue</td>\n",
       "      <td>Fall</td>\n",
       "      <td>2011.0</td>\n",
       "      <td>Casual</td>\n",
       "      <td>Basics Men Navy T-shirt</td>\n",
       "      <td>104</td>\n",
       "      <td>201</td>\n",
       "      <td>2.2</td>\n",
       "      <td>28</td>\n",
       "      <td>./images/9935.jpg</td>\n",
       "      <td>231</td>\n",
       "      <td>5.0</td>\n",
       "      <td>3.795117</td>\n",
       "    </tr>\n",
       "    <tr>\n",
       "      <th>6791</th>\n",
       "      <td>7</td>\n",
       "      <td>10142</td>\n",
       "      <td>Men</td>\n",
       "      <td>Footwear</td>\n",
       "      <td>Shoes</td>\n",
       "      <td>Casual Shoes</td>\n",
       "      <td>Brown</td>\n",
       "      <td>Fall</td>\n",
       "      <td>2011.0</td>\n",
       "      <td>Casual</td>\n",
       "      <td>Rockport Men Captoe Brown Casual Shoes</td>\n",
       "      <td>10</td>\n",
       "      <td>218</td>\n",
       "      <td>2.9</td>\n",
       "      <td>24</td>\n",
       "      <td>./images/10142.jpg</td>\n",
       "      <td>231</td>\n",
       "      <td>5.0</td>\n",
       "      <td>3.795117</td>\n",
       "    </tr>\n",
       "    <tr>\n",
       "      <th>30926</th>\n",
       "      <td>8</td>\n",
       "      <td>49941</td>\n",
       "      <td>Men</td>\n",
       "      <td>Apparel</td>\n",
       "      <td>Topwear</td>\n",
       "      <td>Tshirts</td>\n",
       "      <td>Red</td>\n",
       "      <td>Summer</td>\n",
       "      <td>2016.0</td>\n",
       "      <td>Casual</td>\n",
       "      <td>Hanes Men Red T-shirt</td>\n",
       "      <td>190</td>\n",
       "      <td>223</td>\n",
       "      <td>3.0</td>\n",
       "      <td>24</td>\n",
       "      <td>./images/49941.jpg</td>\n",
       "      <td>230</td>\n",
       "      <td>5.0</td>\n",
       "      <td>3.792391</td>\n",
       "    </tr>\n",
       "    <tr>\n",
       "      <th>15255</th>\n",
       "      <td>9</td>\n",
       "      <td>20567</td>\n",
       "      <td>Women</td>\n",
       "      <td>Accessories</td>\n",
       "      <td>Bags</td>\n",
       "      <td>Handbags</td>\n",
       "      <td>Gold</td>\n",
       "      <td>Winter</td>\n",
       "      <td>2015.0</td>\n",
       "      <td>Casual</td>\n",
       "      <td>Baggit Women Barbiex Avni Gold Handbag</td>\n",
       "      <td>99</td>\n",
       "      <td>196</td>\n",
       "      <td>2.9</td>\n",
       "      <td>30</td>\n",
       "      <td>./images/20567.jpg</td>\n",
       "      <td>229</td>\n",
       "      <td>5.0</td>\n",
       "      <td>3.789652</td>\n",
       "    </tr>\n",
       "    <tr>\n",
       "      <th>26245</th>\n",
       "      <td>10</td>\n",
       "      <td>27674</td>\n",
       "      <td>Women</td>\n",
       "      <td>Accessories</td>\n",
       "      <td>Bags</td>\n",
       "      <td>Handbags</td>\n",
       "      <td>Yellow</td>\n",
       "      <td>Winter</td>\n",
       "      <td>2015.0</td>\n",
       "      <td>Casual</td>\n",
       "      <td>Murcia Women Yellow Handbag</td>\n",
       "      <td>66</td>\n",
       "      <td>224</td>\n",
       "      <td>2.6</td>\n",
       "      <td>24</td>\n",
       "      <td>./images/27674.jpg</td>\n",
       "      <td>229</td>\n",
       "      <td>5.0</td>\n",
       "      <td>3.789652</td>\n",
       "    </tr>\n",
       "  </tbody>\n",
       "</table>\n",
       "</div>"
      ],
      "text/plain": [
       "       no     id gender masterCategory subCategory            articleType  \\\n",
       "30493   1  53013  Women        Apparel       Saree                 Sarees   \n",
       "5759    2  34785    Men       Footwear      Sandal         Sports Sandals   \n",
       "18925   3  26185  Women       Footwear       Shoes                  Flats   \n",
       "17150   4  32525    Men  Personal Care   Fragrance  Perfume and Body Mist   \n",
       "3528    5  19787    Men        Apparel     Topwear                Tshirts   \n",
       "34374   6   9935    Men        Apparel     Topwear                Tshirts   \n",
       "6791    7  10142    Men       Footwear       Shoes           Casual Shoes   \n",
       "30926   8  49941    Men        Apparel     Topwear                Tshirts   \n",
       "15255   9  20567  Women    Accessories        Bags               Handbags   \n",
       "26245  10  27674  Women    Accessories        Bags               Handbags   \n",
       "\n",
       "      baseColour  season    year   usage  \\\n",
       "30493      Multi    Fall  2012.0  Ethnic   \n",
       "5759        Grey  Summer  2012.0  Casual   \n",
       "18925      Brown  Winter  2012.0  Casual   \n",
       "17150     Silver  Spring  2017.0  Casual   \n",
       "3528       White  Winter  2016.0  Casual   \n",
       "34374  Navy Blue    Fall  2011.0  Casual   \n",
       "6791       Brown    Fall  2011.0  Casual   \n",
       "30926        Red  Summer  2016.0  Casual   \n",
       "15255       Gold  Winter  2015.0  Casual   \n",
       "26245     Yellow  Winter  2015.0  Casual   \n",
       "\n",
       "                           productDisplayName  seller_id  num_of_products  \\\n",
       "30493                 FNF Multi Coloured Sari         79              210   \n",
       "5759             Fila Men Benton Grey Sandals        139              229   \n",
       "18925        Rocia Women Brown Casual Sandals         29              229   \n",
       "17150   Tonino Lamborghini Men Mitico Perfume         34              199   \n",
       "3528   U.S. Polo Assn. Men Solid White Tshirt         60              206   \n",
       "34374                 Basics Men Navy T-shirt        104              201   \n",
       "6791   Rockport Men Captoe Brown Casual Shoes         10              218   \n",
       "30926                   Hanes Men Red T-shirt        190              223   \n",
       "15255  Baggit Women Barbiex Avni Gold Handbag         99              196   \n",
       "26245             Murcia Women Yellow Handbag         66              224   \n",
       "\n",
       "       seller_ratings  num_of_reviewers          image_path  reviewers  \\\n",
       "30493             2.2                27  ./images/53013.jpg        235   \n",
       "5759              2.5                22  ./images/34785.jpg        235   \n",
       "18925             3.1                22  ./images/26185.jpg        235   \n",
       "17150             2.6                35  ./images/32525.jpg        234   \n",
       "3528              2.7                19  ./images/19787.jpg        234   \n",
       "34374             2.2                28   ./images/9935.jpg        231   \n",
       "6791              2.9                24  ./images/10142.jpg        231   \n",
       "30926             3.0                24  ./images/49941.jpg        230   \n",
       "15255             2.9                30  ./images/20567.jpg        229   \n",
       "26245             2.6                24  ./images/27674.jpg        229   \n",
       "\n",
       "       ratings     score  \n",
       "30493      5.0  3.805899  \n",
       "5759       5.0  3.805899  \n",
       "18925      5.0  3.805899  \n",
       "17150      5.0  3.803221  \n",
       "3528       5.0  3.803221  \n",
       "34374      5.0  3.795117  \n",
       "6791       5.0  3.795117  \n",
       "30926      5.0  3.792391  \n",
       "15255      5.0  3.789652  \n",
       "26245      5.0  3.789652  "
      ]
     },
     "execution_count": 20,
     "metadata": {},
     "output_type": "execute_result"
    }
   ],
   "source": [
    "#Sort movies based on score calculated above\n",
    "q_fashions = q_fashions.sort_values('score', ascending=False)\n",
    "q_fashions.insert(0, 'no', range(1, len(q_fashions) + 1))\n",
    "\n",
    "#Print the top 15 movies\n",
    "q_fashions.head(10)"
   ]
  },
  {
   "cell_type": "code",
   "execution_count": 21,
   "id": "dcbcc54d",
   "metadata": {},
   "outputs": [
    {
     "name": "stdout",
     "output_type": "stream",
     "text": [
      "Trending  1\n"
     ]
    },
    {
     "data": {
      "image/png": "[encoded data removed]",
      "text/plain": [
       "<PIL.JpegImagePlugin.JpegImageFile image mode=RGB size=60x80>"
      ]
     },
     "metadata": {},
     "output_type": "display_data"
    },
    {
     "name": "stdout",
     "output_type": "stream",
     "text": [
      "Sarees\n",
      "----------------------\n",
      "Trending  2\n"
     ]
    },
    {
     "data": {
      "image/png": "[encoded data removed]",
      "text/plain": [
       "<PIL.JpegImagePlugin.JpegImageFile image mode=RGB size=60x80>"
      ]
     },
     "metadata": {},
     "output_type": "display_data"
    },
    {
     "name": "stdout",
     "output_type": "stream",
     "text": [
      "Sports Sandals\n",
      "----------------------\n",
      "Trending  3\n"
     ]
    },
    {
     "data": {
      "image/png": "[encoded data removed]",
      "text/plain": [
       "<PIL.JpegImagePlugin.JpegImageFile image mode=RGB size=60x80>"
      ]
     },
     "metadata": {},
     "output_type": "display_data"
    },
    {
     "name": "stdout",
     "output_type": "stream",
     "text": [
      "Flats\n",
      "----------------------\n",
      "Trending  4\n"
     ]
    },
    {
     "data": {
      "image/png": "[encoded data removed]",
      "text/plain": [
       "<PIL.JpegImagePlugin.JpegImageFile image mode=RGB size=60x80>"
      ]
     },
     "metadata": {},
     "output_type": "display_data"
    },
    {
     "name": "stdout",
     "output_type": "stream",
     "text": [
      "Perfume and Body Mist\n",
      "----------------------\n",
      "Trending  5\n"
     ]
    },
    {
     "data": {
      "image/png": "[encoded data removed]",
      "text/plain": [
       "<PIL.JpegImagePlugin.JpegImageFile image mode=RGB size=60x80>"
      ]
     },
     "metadata": {},
     "output_type": "display_data"
    },
    {
     "name": "stdout",
     "output_type": "stream",
     "text": [
      "Tshirts\n",
      "----------------------\n",
      "Trending  6\n"
     ]
    },
    {
     "data": {
      "image/png": "[encoded data removed]",
      "text/plain": [
       "<PIL.JpegImagePlugin.JpegImageFile image mode=RGB size=60x80>"
      ]
     },
     "metadata": {},
     "output_type": "display_data"
    },
    {
     "name": "stdout",
     "output_type": "stream",
     "text": [
      "Tshirts\n",
      "----------------------\n",
      "Trending  7\n"
     ]
    },
    {
     "data": {
      "image/png": "[encoded data removed]",
      "text/plain": [
       "<PIL.JpegImagePlugin.JpegImageFile image mode=RGB size=60x80>"
      ]
     },
     "metadata": {},
     "output_type": "display_data"
    },
    {
     "name": "stdout",
     "output_type": "stream",
     "text": [
      "Casual Shoes\n",
      "----------------------\n",
      "Trending  8\n"
     ]
    },
    {
     "data": {
      "image/png": "[encoded data removed]",
      "text/plain": [
       "<PIL.JpegImagePlugin.JpegImageFile image mode=RGB size=60x80>"
      ]
     },
     "metadata": {},
     "output_type": "display_data"
    },
    {
     "name": "stdout",
     "output_type": "stream",
     "text": [
      "Tshirts\n",
      "----------------------\n",
      "Trending  9\n"
     ]
    },
    {
     "data": {
      "image/png": "[encoded data removed]",
      "text/plain": [
       "<PIL.JpegImagePlugin.JpegImageFile image mode=RGB size=60x80>"
      ]
     },
     "metadata": {},
     "output_type": "display_data"
    },
    {
     "name": "stdout",
     "output_type": "stream",
     "text": [
      "Handbags\n",
      "----------------------\n",
      "Trending  10\n"
     ]
    },
    {
     "data": {
      "image/png": "[encoded data removed]",
      "text/plain": [
       "<PIL.JpegImagePlugin.JpegImageFile image mode=RGB size=60x80>"
      ]
     },
     "metadata": {},
     "output_type": "display_data"
    },
    {
     "name": "stdout",
     "output_type": "stream",
     "text": [
      "Handbags\n",
      "----------------------\n"
     ]
    }
   ],
   "source": [
    "from PIL import Image\n",
    "from IPython.display import display\n",
    "\n",
    "# Iterate over the sorted DataFrame and display the images\n",
    "for index, row in q_fashions.head(10).iterrows():\n",
    "    image_path = row['image_path']\n",
    "    image_name = row['articleType']\n",
    "    image_no = row['no']\n",
    "    image = Image.open(image_path)\n",
    "    print(\"Trending \", image_no)\n",
    "    display(image)\n",
    "    print(image_name)\n",
    "    print(\"----------------------\")"
   ]
  },
  {
   "cell_type": "code",
   "execution_count": 22,
   "id": "c4e5d4b8",
   "metadata": {},
   "outputs": [],
   "source": [
    "# Collaborative Filtering\n"
   ]
  },
  {
   "cell_type": "code",
   "execution_count": 24,
   "id": "bb98edb9",
   "metadata": {},
   "outputs": [
    {
     "ename": "ModuleNotFoundError",
     "evalue": "No module named 'surprise'",
     "output_type": "error",
     "traceback": [
      "\u001b[1;31m---------------------------------------------------------------------------\u001b[0m",
      "\u001b[1;31mModuleNotFoundError\u001b[0m                       Traceback (most recent call last)",
      "\u001b[1;32m~\\AppData\\Local\\Temp\\ipykernel_22152\\3330661510.py\u001b[0m in \u001b[0;36m<module>\u001b[1;34m\u001b[0m\n\u001b[1;32m----> 1\u001b[1;33m \u001b[1;32mfrom\u001b[0m \u001b[0msurprise\u001b[0m \u001b[1;32mimport\u001b[0m \u001b[0mReader\u001b[0m\u001b[1;33m,\u001b[0m \u001b[0mDataset\u001b[0m\u001b[1;33m,\u001b[0m \u001b[0mSVD\u001b[0m\u001b[1;33m,\u001b[0m \u001b[0mevaluate\u001b[0m\u001b[1;33m\u001b[0m\u001b[1;33m\u001b[0m\u001b[0m\n\u001b[0m\u001b[0;32m      2\u001b[0m \u001b[1;33m\u001b[0m\u001b[0m\n\u001b[0;32m      3\u001b[0m \u001b[0mdata\u001b[0m \u001b[1;33m=\u001b[0m \u001b[0mDataset\u001b[0m\u001b[1;33m.\u001b[0m\u001b[0mload_from_df\u001b[0m\u001b[1;33m(\u001b[0m\u001b[0muser_ratings\u001b[0m\u001b[1;33m[\u001b[0m\u001b[1;33m[\u001b[0m\u001b[1;34m'user_id'\u001b[0m\u001b[1;33m,\u001b[0m \u001b[1;34m'fashion_id'\u001b[0m\u001b[1;33m,\u001b[0m \u001b[1;34m'ratings'\u001b[0m\u001b[1;33m]\u001b[0m\u001b[1;33m]\u001b[0m\u001b[1;33m,\u001b[0m \u001b[0mreader\u001b[0m\u001b[1;33m)\u001b[0m\u001b[1;33m\u001b[0m\u001b[1;33m\u001b[0m\u001b[0m\n\u001b[0;32m      4\u001b[0m \u001b[0mdata\u001b[0m\u001b[1;33m.\u001b[0m\u001b[0msplit\u001b[0m\u001b[1;33m(\u001b[0m\u001b[0mn_folds\u001b[0m\u001b[1;33m=\u001b[0m\u001b[1;36m5\u001b[0m\u001b[1;33m)\u001b[0m\u001b[1;33m\u001b[0m\u001b[1;33m\u001b[0m\u001b[0m\n",
      "\u001b[1;31mModuleNotFoundError\u001b[0m: No module named 'surprise'"
     ]
    }
   ],
   "source": [
    "from surprise import Reader, Dataset, SVD, evaluate\n",
    "\n",
    "data = Dataset.load_from_df(user_ratings[['user_id', 'fashion_id', 'ratings']], reader)\n",
    "data.split(n_folds=5)"
   ]
  }
 ],
 "metadata": {
  "kernelspec": {
   "display_name": "Python 3 (ipykernel)",
   "language": "python",
   "name": "python3"
  },
  "language_info": {
   "codemirror_mode": {
    "name": "ipython",
    "version": 3
   },
   "file_extension": ".py",
   "mimetype": "text/x-python",
   "name": "python",
   "nbconvert_exporter": "python",
   "pygments_lexer": "ipython3",
   "version": "3.9.13"
  }
 },
 "nbformat": 4,
 "nbformat_minor": 5
}
