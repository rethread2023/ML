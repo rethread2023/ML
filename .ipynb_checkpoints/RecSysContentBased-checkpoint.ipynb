{
 "cells": [
  {
   "cell_type": "code",
   "execution_count": 1,
   "id": "14493558",
   "metadata": {},
   "outputs": [],
   "source": [
    "import pandas as pd\n",
    "import random\n",
    "import os\n",
    "import numpy as np"
   ]
  },
  {
   "cell_type": "code",
   "execution_count": 2,
   "id": "41c5b607",
   "metadata": {},
   "outputs": [],
   "source": [
    "# Path to the CSV file\n",
    "csv_file_path = './csv_files/combined_dataset.csv'"
   ]
  },
  {
   "cell_type": "code",
   "execution_count": 3,
   "id": "638ab01d",
   "metadata": {},
   "outputs": [
    {
     "name": "stdout",
     "output_type": "stream",
     "text": [
      "      id gender masterCategory subCategory  articleType baseColour  season  \\\n",
      "0  15970    Men        Apparel     Topwear       Shirts  Navy Blue    Fall   \n",
      "1  39386    Men        Apparel  Bottomwear        Jeans       Blue  Summer   \n",
      "2  59263  Women    Accessories     Watches      Watches     Silver  Winter   \n",
      "3  21379    Men        Apparel  Bottomwear  Track Pants      Black    Fall   \n",
      "4  53759    Men        Apparel     Topwear      Tshirts       Grey  Summer   \n",
      "\n",
      "     year   usage                             productDisplayName  seller_id  \\\n",
      "0  2011.0  Casual               Turtle Check Men Navy Blue Shirt        148   \n",
      "1  2012.0  Casual             Peter England Men Party Blue Jeans         24   \n",
      "2  2016.0  Casual                       Titan Women Silver Watch        173   \n",
      "3  2011.0  Casual  Manchester United Men Solid Black Track Pants        191   \n",
      "4  2012.0  Casual                          Puma Men Grey T-shirt        166   \n",
      "\n",
      "     status  total_reviewers  average_rating                       image_path  \n",
      "0  for sale               66             2.3  ./mytradataset/images/15970.jpg  \n",
      "1  for sale               68             2.4  ./mytradataset/images/39386.jpg  \n",
      "2  for sale               55             2.5  ./mytradataset/images/59263.jpg  \n",
      "3  for sale               70             2.3  ./mytradataset/images/21379.jpg  \n",
      "4      sold               80             2.5  ./mytradataset/images/53759.jpg  \n"
     ]
    }
   ],
   "source": [
    "# Read the CSV file into a DataFrame\n",
    "products_df = pd.read_csv(csv_file_path, on_bad_lines='skip')\n",
    "\n",
    "print(products_df.head())"
   ]
  },
  {
   "cell_type": "code",
   "execution_count": 4,
   "id": "cee38095",
   "metadata": {},
   "outputs": [
    {
     "data": {
      "text/plain": [
       "0                 Turtle Check Men Navy Blue Shirt\n",
       "1               Peter England Men Party Blue Jeans\n",
       "2                         Titan Women Silver Watch\n",
       "3    Manchester United Men Solid Black Track Pants\n",
       "4                            Puma Men Grey T-shirt\n",
       "Name: productDisplayName, dtype: object"
      ]
     },
     "execution_count": 4,
     "metadata": {},
     "output_type": "execute_result"
    }
   ],
   "source": [
    "products_df['productDisplayName'].head(5)"
   ]
  },
  {
   "cell_type": "code",
   "execution_count": 5,
   "id": "5563be3d",
   "metadata": {},
   "outputs": [
    {
     "data": {
      "text/plain": [
       "(44417, 8567)"
      ]
     },
     "execution_count": 5,
     "metadata": {},
     "output_type": "execute_result"
    }
   ],
   "source": [
    "# Import TfIdfVectorizer from scikit-learn\n",
    "from sklearn.feature_extraction.text import TfidfVectorizer\n",
    "from sklearn.metrics.pairwise import cosine_similarity, linear_kernel\n",
    "\n",
    "# Create a TF-IDF vectorizer\n",
    "tfidf = TfidfVectorizer(stop_words='english')\n",
    "\n",
    "# Replace NaN with an empty string\n",
    "products_df['productDisplayName'] = products_df['productDisplayName'].fillna('')\n",
    "\n",
    "# Compute the TF-IDF matrix\n",
    "tfidf_matrix = tfidf.fit_transform(products_df['productDisplayName'])\n",
    "\n",
    "#Output the shape of tfidf_matrix\n",
    "tfidf_matrix.shape"
   ]
  },
  {
   "cell_type": "code",
   "execution_count": 6,
   "id": "efc0f395",
   "metadata": {},
   "outputs": [],
   "source": [
    "# Compute the cosine similarity matrix\n",
    "cosine_sim = linear_kernel(tfidf_matrix, tfidf_matrix)"
   ]
  },
  {
   "cell_type": "code",
   "execution_count": 8,
   "id": "1a005e87",
   "metadata": {},
   "outputs": [],
   "source": [
    "#Construct a reverse map of indices and product titles\n",
    "indices = pd.Series(products_df.index, index=products_df['productDisplayName']).drop_duplicates()"
   ]
  },
  {
   "cell_type": "code",
   "execution_count": 9,
   "id": "5f4b66f7",
   "metadata": {},
   "outputs": [],
   "source": [
    "# Function that takes in product title as input and outputs most similar movies\n",
    "def get_recommendations(title, cosine_sim=cosine_sim):\n",
    "    # Get the index of the product that matches the title\n",
    "    idx = indices[title]\n",
    "\n",
    "    # Get the pairwsie similarity scores of all movies with that product\n",
    "    sim_scores = list(enumerate(cosine_sim[idx]))\n",
    "\n",
    "    # Sort the products based on the similarity scores\n",
    "    sim_scores = sorted(sim_scores, key=lambda x: x[1], reverse=True)\n",
    "\n",
    "    # Get the scores of the 10 most similar products\n",
    "    sim_scores = sim_scores[1:11]\n",
    "\n",
    "    # Get the movie indices\n",
    "    product_indices = [i[0] for i in sim_scores]\n",
    "\n",
    "    # Return the top 10 most similar products\n",
    "    return products_df['productDisplayName'].iloc[product_indices]"
   ]
  },
  {
   "cell_type": "code",
   "execution_count": 14,
   "id": "e570ee93",
   "metadata": {},
   "outputs": [
    {
     "data": {
      "text/plain": [
       "3522          Peter England Men Blue Party Jeans\n",
       "459          Peter England Men Party Black Jeans\n",
       "26956    Peter England Men Navy Blue Party Jeans\n",
       "3897                Peter England Men Blue Jeans\n",
       "10945               Peter England Men Blue Jeans\n",
       "21240               Peter England Men Blue Jeans\n",
       "23706               Peter England Men Blue Jeans\n",
       "27146               Peter England Men Blue Jeans\n",
       "28026               Peter England Men Blue Jeans\n",
       "29846               Peter England Men Blue Jeans\n",
       "Name: productDisplayName, dtype: object"
      ]
     },
     "execution_count": 14,
     "metadata": {},
     "output_type": "execute_result"
    }
   ],
   "source": [
    "get_recommendations('Peter England Men Party Blue Jeans')"
   ]
  },
  {
   "cell_type": "code",
   "execution_count": null,
   "id": "f6425f4d",
   "metadata": {},
   "outputs": [],
   "source": []
  }
 ],
 "metadata": {
  "kernelspec": {
   "display_name": "Python 3 (ipykernel)",
   "language": "python",
   "name": "python3"
  },
  "language_info": {
   "codemirror_mode": {
    "name": "ipython",
    "version": 3
   },
   "file_extension": ".py",
   "mimetype": "text/x-python",
   "name": "python",
   "nbconvert_exporter": "python",
   "pygments_lexer": "ipython3",
   "version": "3.9.13"
  }
 },
 "nbformat": 4,
 "nbformat_minor": 5
}
