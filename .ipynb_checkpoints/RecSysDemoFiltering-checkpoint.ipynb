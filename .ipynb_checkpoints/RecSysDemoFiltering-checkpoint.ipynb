{
 "cells": [
  {
   "cell_type": "code",
   "execution_count": 1,
   "id": "622bc3e1",
   "metadata": {},
   "outputs": [],
   "source": [
    "import pandas as pd\n",
    "import random\n",
    "import os\n",
    "import numpy as np"
   ]
  },
  {
   "cell_type": "code",
   "execution_count": 2,
   "id": "b03d36db",
   "metadata": {},
   "outputs": [],
   "source": [
    "# Path to the CSV file\n",
    "csv_file_path = './csv_files/combined_dataset.csv'"
   ]
  },
  {
   "cell_type": "code",
   "execution_count": 3,
   "id": "b99451fe",
   "metadata": {},
   "outputs": [
    {
     "name": "stdout",
     "output_type": "stream",
     "text": [
      "      id gender masterCategory subCategory  articleType baseColour  season  \\\n",
      "0  15970    Men        Apparel     Topwear       Shirts  Navy Blue    Fall   \n",
      "1  39386    Men        Apparel  Bottomwear        Jeans       Blue  Summer   \n",
      "2  59263  Women    Accessories     Watches      Watches     Silver  Winter   \n",
      "3  21379    Men        Apparel  Bottomwear  Track Pants      Black    Fall   \n",
      "4  53759    Men        Apparel     Topwear      Tshirts       Grey  Summer   \n",
      "\n",
      "     year   usage                             productDisplayName  seller_id  \\\n",
      "0  2011.0  Casual               Turtle Check Men Navy Blue Shirt        148   \n",
      "1  2012.0  Casual             Peter England Men Party Blue Jeans         24   \n",
      "2  2016.0  Casual                       Titan Women Silver Watch        173   \n",
      "3  2011.0  Casual  Manchester United Men Solid Black Track Pants        191   \n",
      "4  2012.0  Casual                          Puma Men Grey T-shirt        166   \n",
      "\n",
      "     status  total_reviewers  average_rating                       image_path  \n",
      "0  for sale               66             2.3  ./mytradataset/images/15970.jpg  \n",
      "1  for sale               68             2.4  ./mytradataset/images/39386.jpg  \n",
      "2  for sale               55             2.5  ./mytradataset/images/59263.jpg  \n",
      "3  for sale               70             2.3  ./mytradataset/images/21379.jpg  \n",
      "4      sold               80             2.5  ./mytradataset/images/53759.jpg  \n"
     ]
    }
   ],
   "source": [
    "# Read the CSV file into a DataFrame\n",
    "products_df = pd.read_csv(csv_file_path, on_bad_lines='skip')\n",
    "\n",
    "print(products_df.head())"
   ]
  },
  {
   "cell_type": "code",
   "execution_count": 4,
   "id": "010d4a59",
   "metadata": {},
   "outputs": [
    {
     "data": {
      "text/plain": [
       "2.501499425895368"
      ]
     },
     "execution_count": 4,
     "metadata": {},
     "output_type": "execute_result"
    }
   ],
   "source": [
    "# Demographic Filtering = Recommendation based on popular sellers, will be displayed for new users\n",
    "C= products_df['average_rating'].mean()\n",
    "C"
   ]
  },
  {
   "cell_type": "code",
   "execution_count": 5,
   "id": "6852c498",
   "metadata": {},
   "outputs": [
    {
     "data": {
      "text/plain": [
       "79.0"
      ]
     },
     "execution_count": 5,
     "metadata": {},
     "output_type": "execute_result"
    }
   ],
   "source": [
    "m= products_df['total_reviewers'].quantile(0.9)\n",
    "m"
   ]
  },
  {
   "cell_type": "code",
   "execution_count": 6,
   "id": "47fd0dec",
   "metadata": {},
   "outputs": [
    {
     "data": {
      "text/plain": [
       "(4520, 15)"
      ]
     },
     "execution_count": 6,
     "metadata": {},
     "output_type": "execute_result"
    }
   ],
   "source": [
    "# We will now make a new dataset of top trend clothings\n",
    "top10_fashions = products_df.copy().loc[products_df['total_reviewers'] >= m]\n",
    "top10_fashions.shape"
   ]
  },
  {
   "cell_type": "code",
   "execution_count": 7,
   "id": "4380f523",
   "metadata": {},
   "outputs": [],
   "source": [
    "# We will define a function, weighted_rating() and define a new feature score,\n",
    "# of which we'll calculate the value by applying this function to our DataFrame of top trend clothings:\n",
    "def weighted_rating(x, m=m, C=C):\n",
    "    v = x['total_reviewers']\n",
    "    R = x['average_rating']\n",
    "    # Calculation based on the IMDB formula\n",
    "    return (v/(v+m) * R) + (m/(m+v) * C)"
   ]
  },
  {
   "cell_type": "code",
   "execution_count": 8,
   "id": "158b9d47",
   "metadata": {},
   "outputs": [],
   "source": [
    "# Define a new feature 'score' and calculate its value with `weighted_rating()`\n",
    "top10_fashions['score'] = top10_fashions.apply(weighted_rating, axis=1)"
   ]
  },
  {
   "cell_type": "code",
   "execution_count": 9,
   "id": "98dce482",
   "metadata": {},
   "outputs": [],
   "source": [
    "#Sort fashions based on score calculated above\n",
    "top10_fashions = top10_fashions.sort_values('score', ascending=False)"
   ]
  },
  {
   "cell_type": "code",
   "execution_count": 10,
   "id": "717ca5da",
   "metadata": {},
   "outputs": [],
   "source": [
    "# Sort the DataFrame by 'score' in descending order\n",
    "df_sorted = top10_fashions.sort_values(by='score', ascending=False)\n",
    "\n",
    "# Drop duplicate 'seller_id' values, keeping the first occurrence\n",
    "df_unique = df_sorted.drop_duplicates(subset='seller_id', keep='first')\n",
    "\n",
    "# Extract the desired columns\n",
    "output_columns = ['seller_id', 'score'] + list(df_unique.columns.difference(['seller_id', 'score']))\n",
    "top10_fashions = df_unique[output_columns]\n",
    "\n",
    "if 'no' in top10_fashions.columns:\n",
    "    column = top10_fashions.pop('no')\n",
    "    \n",
    "top10_fashions.insert(0, 'no', range(1, len(top10_fashions) + 1))"
   ]
  },
  {
   "cell_type": "code",
   "execution_count": 11,
   "id": "c0c9dab8",
   "metadata": {},
   "outputs": [
    {
     "data": {
      "text/html": [
       "<div>\n",
       "<style scoped>\n",
       "    .dataframe tbody tr th:only-of-type {\n",
       "        vertical-align: middle;\n",
       "    }\n",
       "\n",
       "    .dataframe tbody tr th {\n",
       "        vertical-align: top;\n",
       "    }\n",
       "\n",
       "    .dataframe thead th {\n",
       "        text-align: right;\n",
       "    }\n",
       "</style>\n",
       "<table border=\"1\" class=\"dataframe\">\n",
       "  <thead>\n",
       "    <tr style=\"text-align: right;\">\n",
       "      <th></th>\n",
       "      <th>no</th>\n",
       "      <th>seller_id</th>\n",
       "      <th>score</th>\n",
       "      <th>articleType</th>\n",
       "      <th>average_rating</th>\n",
       "      <th>baseColour</th>\n",
       "      <th>gender</th>\n",
       "      <th>id</th>\n",
       "      <th>image_path</th>\n",
       "      <th>masterCategory</th>\n",
       "      <th>productDisplayName</th>\n",
       "      <th>season</th>\n",
       "      <th>status</th>\n",
       "      <th>subCategory</th>\n",
       "      <th>total_reviewers</th>\n",
       "      <th>usage</th>\n",
       "      <th>year</th>\n",
       "    </tr>\n",
       "  </thead>\n",
       "  <tbody>\n",
       "    <tr>\n",
       "      <th>33357</th>\n",
       "      <td>1</td>\n",
       "      <td>32</td>\n",
       "      <td>2.601990</td>\n",
       "      <td>Flats</td>\n",
       "      <td>2.7</td>\n",
       "      <td>Blue</td>\n",
       "      <td>Women</td>\n",
       "      <td>51751</td>\n",
       "      <td>./mytradataset/images/51751.jpg</td>\n",
       "      <td>Footwear</td>\n",
       "      <td>Catwalk Women Blue Shoes</td>\n",
       "      <td>Winter</td>\n",
       "      <td>for sale</td>\n",
       "      <td>Shoes</td>\n",
       "      <td>81</td>\n",
       "      <td>Casual</td>\n",
       "      <td>2015.0</td>\n",
       "    </tr>\n",
       "    <tr>\n",
       "      <th>12626</th>\n",
       "      <td>2</td>\n",
       "      <td>127</td>\n",
       "      <td>2.600750</td>\n",
       "      <td>Casual Shoes</td>\n",
       "      <td>2.7</td>\n",
       "      <td>Black</td>\n",
       "      <td>Men</td>\n",
       "      <td>22095</td>\n",
       "      <td>./mytradataset/images/22095.jpg</td>\n",
       "      <td>Footwear</td>\n",
       "      <td>Numero Uno Men Casual Black Shoes</td>\n",
       "      <td>Summer</td>\n",
       "      <td>sold</td>\n",
       "      <td>Shoes</td>\n",
       "      <td>79</td>\n",
       "      <td>Casual</td>\n",
       "      <td>2012.0</td>\n",
       "    </tr>\n",
       "    <tr>\n",
       "      <th>1810</th>\n",
       "      <td>3</td>\n",
       "      <td>156</td>\n",
       "      <td>2.551059</td>\n",
       "      <td>Perfume and Body Mist</td>\n",
       "      <td>2.6</td>\n",
       "      <td>Grey</td>\n",
       "      <td>Men</td>\n",
       "      <td>36704</td>\n",
       "      <td>./mytradataset/images/36704.jpg</td>\n",
       "      <td>Personal Care</td>\n",
       "      <td>Burberry London Men Special Edition Perfume</td>\n",
       "      <td>Spring</td>\n",
       "      <td>sold</td>\n",
       "      <td>Fragrance</td>\n",
       "      <td>80</td>\n",
       "      <td>Casual</td>\n",
       "      <td>2017.0</td>\n",
       "    </tr>\n",
       "    <tr>\n",
       "      <th>29424</th>\n",
       "      <td>4</td>\n",
       "      <td>108</td>\n",
       "      <td>2.500750</td>\n",
       "      <td>Tshirts</td>\n",
       "      <td>2.5</td>\n",
       "      <td>Black</td>\n",
       "      <td>Men</td>\n",
       "      <td>4431</td>\n",
       "      <td>./mytradataset/images/4431.jpg</td>\n",
       "      <td>Apparel</td>\n",
       "      <td>Wrangler Men's Engine Broad Stripe Polo Black ...</td>\n",
       "      <td>Summer</td>\n",
       "      <td>sold</td>\n",
       "      <td>Topwear</td>\n",
       "      <td>79</td>\n",
       "      <td>Casual</td>\n",
       "      <td>2011.0</td>\n",
       "    </tr>\n",
       "    <tr>\n",
       "      <th>4852</th>\n",
       "      <td>5</td>\n",
       "      <td>72</td>\n",
       "      <td>2.500750</td>\n",
       "      <td>Sweatshirts</td>\n",
       "      <td>2.5</td>\n",
       "      <td>Grey</td>\n",
       "      <td>Men</td>\n",
       "      <td>19171</td>\n",
       "      <td>./mytradataset/images/19171.jpg</td>\n",
       "      <td>Apparel</td>\n",
       "      <td>United Colors of Benetton Men Printed Grey Swe...</td>\n",
       "      <td>Fall</td>\n",
       "      <td>for sale</td>\n",
       "      <td>Topwear</td>\n",
       "      <td>79</td>\n",
       "      <td>Casual</td>\n",
       "      <td>2011.0</td>\n",
       "    </tr>\n",
       "    <tr>\n",
       "      <th>41828</th>\n",
       "      <td>6</td>\n",
       "      <td>128</td>\n",
       "      <td>2.500750</td>\n",
       "      <td>Tshirts</td>\n",
       "      <td>2.5</td>\n",
       "      <td>Black</td>\n",
       "      <td>Men</td>\n",
       "      <td>26725</td>\n",
       "      <td>./mytradataset/images/26725.jpg</td>\n",
       "      <td>Apparel</td>\n",
       "      <td>Puma Men Large Logo Graphic Black T-shirt</td>\n",
       "      <td>Summer</td>\n",
       "      <td>sold</td>\n",
       "      <td>Topwear</td>\n",
       "      <td>79</td>\n",
       "      <td>Casual</td>\n",
       "      <td>2012.0</td>\n",
       "    </tr>\n",
       "    <tr>\n",
       "      <th>36118</th>\n",
       "      <td>7</td>\n",
       "      <td>152</td>\n",
       "      <td>2.500750</td>\n",
       "      <td>Jackets</td>\n",
       "      <td>2.5</td>\n",
       "      <td>Black</td>\n",
       "      <td>Men</td>\n",
       "      <td>14702</td>\n",
       "      <td>./mytradataset/images/14702.jpg</td>\n",
       "      <td>Apparel</td>\n",
       "      <td>Basics Men Black Jackets</td>\n",
       "      <td>Fall</td>\n",
       "      <td>sold</td>\n",
       "      <td>Topwear</td>\n",
       "      <td>79</td>\n",
       "      <td>Casual</td>\n",
       "      <td>2011.0</td>\n",
       "    </tr>\n",
       "    <tr>\n",
       "      <th>10446</th>\n",
       "      <td>8</td>\n",
       "      <td>185</td>\n",
       "      <td>2.500745</td>\n",
       "      <td>Casual Shoes</td>\n",
       "      <td>2.5</td>\n",
       "      <td>Brown</td>\n",
       "      <td>Men</td>\n",
       "      <td>35401</td>\n",
       "      <td>./mytradataset/images/35401.jpg</td>\n",
       "      <td>Footwear</td>\n",
       "      <td>Stens by Enroute Men Brown Shoes</td>\n",
       "      <td>Summer</td>\n",
       "      <td>sold</td>\n",
       "      <td>Shoes</td>\n",
       "      <td>80</td>\n",
       "      <td>Casual</td>\n",
       "      <td>2012.0</td>\n",
       "    </tr>\n",
       "    <tr>\n",
       "      <th>40824</th>\n",
       "      <td>9</td>\n",
       "      <td>166</td>\n",
       "      <td>2.500745</td>\n",
       "      <td>Backpacks</td>\n",
       "      <td>2.5</td>\n",
       "      <td>Orange</td>\n",
       "      <td>Unisex</td>\n",
       "      <td>4592</td>\n",
       "      <td>./mytradataset/images/4592.jpg</td>\n",
       "      <td>Accessories</td>\n",
       "      <td>Wildcraft Unisex Orange Printed Laptop Backpack</td>\n",
       "      <td>Winter</td>\n",
       "      <td>sold</td>\n",
       "      <td>Bags</td>\n",
       "      <td>80</td>\n",
       "      <td>Casual</td>\n",
       "      <td>2015.0</td>\n",
       "    </tr>\n",
       "    <tr>\n",
       "      <th>27983</th>\n",
       "      <td>10</td>\n",
       "      <td>132</td>\n",
       "      <td>2.500736</td>\n",
       "      <td>Tshirts</td>\n",
       "      <td>2.5</td>\n",
       "      <td>White</td>\n",
       "      <td>Men</td>\n",
       "      <td>2139</td>\n",
       "      <td>./mytradataset/images/2139.jpg</td>\n",
       "      <td>Apparel</td>\n",
       "      <td>Basics Men White Roadies T-shirt</td>\n",
       "      <td>Spring</td>\n",
       "      <td>for sale</td>\n",
       "      <td>Topwear</td>\n",
       "      <td>82</td>\n",
       "      <td>Casual</td>\n",
       "      <td>2011.0</td>\n",
       "    </tr>\n",
       "  </tbody>\n",
       "</table>\n",
       "</div>"
      ],
      "text/plain": [
       "       no  seller_id     score            articleType  average_rating  \\\n",
       "33357   1         32  2.601990                  Flats             2.7   \n",
       "12626   2        127  2.600750           Casual Shoes             2.7   \n",
       "1810    3        156  2.551059  Perfume and Body Mist             2.6   \n",
       "29424   4        108  2.500750                Tshirts             2.5   \n",
       "4852    5         72  2.500750            Sweatshirts             2.5   \n",
       "41828   6        128  2.500750                Tshirts             2.5   \n",
       "36118   7        152  2.500750                Jackets             2.5   \n",
       "10446   8        185  2.500745           Casual Shoes             2.5   \n",
       "40824   9        166  2.500745              Backpacks             2.5   \n",
       "27983  10        132  2.500736                Tshirts             2.5   \n",
       "\n",
       "      baseColour  gender     id                       image_path  \\\n",
       "33357       Blue   Women  51751  ./mytradataset/images/51751.jpg   \n",
       "12626      Black     Men  22095  ./mytradataset/images/22095.jpg   \n",
       "1810        Grey     Men  36704  ./mytradataset/images/36704.jpg   \n",
       "29424      Black     Men   4431   ./mytradataset/images/4431.jpg   \n",
       "4852        Grey     Men  19171  ./mytradataset/images/19171.jpg   \n",
       "41828      Black     Men  26725  ./mytradataset/images/26725.jpg   \n",
       "36118      Black     Men  14702  ./mytradataset/images/14702.jpg   \n",
       "10446      Brown     Men  35401  ./mytradataset/images/35401.jpg   \n",
       "40824     Orange  Unisex   4592   ./mytradataset/images/4592.jpg   \n",
       "27983      White     Men   2139   ./mytradataset/images/2139.jpg   \n",
       "\n",
       "      masterCategory                                 productDisplayName  \\\n",
       "33357       Footwear                           Catwalk Women Blue Shoes   \n",
       "12626       Footwear                  Numero Uno Men Casual Black Shoes   \n",
       "1810   Personal Care        Burberry London Men Special Edition Perfume   \n",
       "29424        Apparel  Wrangler Men's Engine Broad Stripe Polo Black ...   \n",
       "4852         Apparel  United Colors of Benetton Men Printed Grey Swe...   \n",
       "41828        Apparel          Puma Men Large Logo Graphic Black T-shirt   \n",
       "36118        Apparel                           Basics Men Black Jackets   \n",
       "10446       Footwear                   Stens by Enroute Men Brown Shoes   \n",
       "40824    Accessories    Wildcraft Unisex Orange Printed Laptop Backpack   \n",
       "27983        Apparel                   Basics Men White Roadies T-shirt   \n",
       "\n",
       "       season    status subCategory  total_reviewers   usage    year  \n",
       "33357  Winter  for sale       Shoes               81  Casual  2015.0  \n",
       "12626  Summer      sold       Shoes               79  Casual  2012.0  \n",
       "1810   Spring      sold   Fragrance               80  Casual  2017.0  \n",
       "29424  Summer      sold     Topwear               79  Casual  2011.0  \n",
       "4852     Fall  for sale     Topwear               79  Casual  2011.0  \n",
       "41828  Summer      sold     Topwear               79  Casual  2012.0  \n",
       "36118    Fall      sold     Topwear               79  Casual  2011.0  \n",
       "10446  Summer      sold       Shoes               80  Casual  2012.0  \n",
       "40824  Winter      sold        Bags               80  Casual  2015.0  \n",
       "27983  Spring  for sale     Topwear               82  Casual  2011.0  "
      ]
     },
     "execution_count": 11,
     "metadata": {},
     "output_type": "execute_result"
    }
   ],
   "source": [
    "# Output the resulting DataFrame\n",
    "top10_fashions.head(10)"
   ]
  },
  {
   "cell_type": "code",
   "execution_count": 12,
   "id": "17e6f4cc",
   "metadata": {},
   "outputs": [
    {
     "name": "stdout",
     "output_type": "stream",
     "text": [
      "Trending 1 from seller 32\n"
     ]
    },
    {
     "data": {
      "image/png": "[encoded data removed]",
      "text/plain": [
       "<PIL.JpegImagePlugin.JpegImageFile image mode=RGB size=60x80>"
      ]
     },
     "metadata": {},
     "output_type": "display_data"
    },
    {
     "name": "stdout",
     "output_type": "stream",
     "text": [
      "Catwalk Women Blue Shoes\n",
      "----------------------\n",
      "Trending 2 from seller 127\n"
     ]
    },
    {
     "data": {
      "image/png": "[encoded data removed]",
      "text/plain": [
       "<PIL.JpegImagePlugin.JpegImageFile image mode=RGB size=60x80>"
      ]
     },
     "metadata": {},
     "output_type": "display_data"
    },
    {
     "name": "stdout",
     "output_type": "stream",
     "text": [
      "Numero Uno Men Casual Black Shoes\n",
      "----------------------\n",
      "Trending 3 from seller 156\n"
     ]
    },
    {
     "data": {
      "image/png": "[encoded data removed]",
      "text/plain": [
       "<PIL.JpegImagePlugin.JpegImageFile image mode=RGB size=60x80>"
      ]
     },
     "metadata": {},
     "output_type": "display_data"
    },
    {
     "name": "stdout",
     "output_type": "stream",
     "text": [
      "Burberry London Men Special Edition Perfume\n",
      "----------------------\n",
      "Trending 4 from seller 108\n"
     ]
    },
    {
     "data": {
      "image/png": "[encoded data removed]",
      "text/plain": [
       "<PIL.JpegImagePlugin.JpegImageFile image mode=RGB size=60x80>"
      ]
     },
     "metadata": {},
     "output_type": "display_data"
    },
    {
     "name": "stdout",
     "output_type": "stream",
     "text": [
      "Wrangler Men's Engine Broad Stripe Polo Black T-shirt\n",
      "----------------------\n",
      "Trending 5 from seller 72\n"
     ]
    },
    {
     "data": {
      "image/png": "[encoded data removed]",
      "text/plain": [
       "<PIL.JpegImagePlugin.JpegImageFile image mode=RGB size=60x80>"
      ]
     },
     "metadata": {},
     "output_type": "display_data"
    },
    {
     "name": "stdout",
     "output_type": "stream",
     "text": [
      "United Colors of Benetton Men Printed Grey Sweatshirt\n",
      "----------------------\n",
      "Trending 6 from seller 128\n"
     ]
    },
    {
     "data": {
      "image/png": "[encoded data removed]",
      "text/plain": [
       "<PIL.JpegImagePlugin.JpegImageFile image mode=RGB size=60x80>"
      ]
     },
     "metadata": {},
     "output_type": "display_data"
    },
    {
     "name": "stdout",
     "output_type": "stream",
     "text": [
      "Puma Men Large Logo Graphic Black T-shirt\n",
      "----------------------\n",
      "Trending 7 from seller 152\n"
     ]
    },
    {
     "data": {
      "image/png": "[encoded data removed]",
      "text/plain": [
       "<PIL.JpegImagePlugin.JpegImageFile image mode=RGB size=60x80>"
      ]
     },
     "metadata": {},
     "output_type": "display_data"
    },
    {
     "name": "stdout",
     "output_type": "stream",
     "text": [
      "Basics Men Black Jackets\n",
      "----------------------\n",
      "Trending 8 from seller 185\n"
     ]
    },
    {
     "data": {
      "image/png": "[encoded data removed]",
      "text/plain": [
       "<PIL.JpegImagePlugin.JpegImageFile image mode=RGB size=60x80>"
      ]
     },
     "metadata": {},
     "output_type": "display_data"
    },
    {
     "name": "stdout",
     "output_type": "stream",
     "text": [
      "Stens by Enroute Men Brown Shoes\n",
      "----------------------\n",
      "Trending 9 from seller 166\n"
     ]
    },
    {
     "data": {
      "image/png": "[encoded data removed]",
      "text/plain": [
       "<PIL.JpegImagePlugin.JpegImageFile image mode=RGB size=60x80>"
      ]
     },
     "metadata": {},
     "output_type": "display_data"
    },
    {
     "name": "stdout",
     "output_type": "stream",
     "text": [
      "Wildcraft Unisex Orange Printed Laptop Backpack\n",
      "----------------------\n",
      "Trending 10 from seller 132\n"
     ]
    },
    {
     "data": {
      "image/png": "[encoded data removed]",
      "text/plain": [
       "<PIL.JpegImagePlugin.JpegImageFile image mode=RGB size=60x80>"
      ]
     },
     "metadata": {},
     "output_type": "display_data"
    },
    {
     "name": "stdout",
     "output_type": "stream",
     "text": [
      "Basics Men White Roadies T-shirt\n",
      "----------------------\n"
     ]
    }
   ],
   "source": [
    "from PIL import Image\n",
    "from IPython.display import display\n",
    "\n",
    "# Iterate over the sorted DataFrame and display the images\n",
    "for index, row in top10_fashions.head(10).iterrows():\n",
    "    image_path = row['image_path']\n",
    "    image_name = row['productDisplayName']\n",
    "    image_seller = row['seller_id']\n",
    "    image_no = row['no']\n",
    "    image = Image.open(image_path)\n",
    "    print(f\"Trending {image_no} from seller {image_seller}\")\n",
    "    display(image)\n",
    "    print(image_name)\n",
    "    print(\"----------------------\")"
   ]
  }
 ],
 "metadata": {
  "kernelspec": {
   "display_name": "Python 3 (ipykernel)",
   "language": "python",
   "name": "python3"
  },
  "language_info": {
   "codemirror_mode": {
    "name": "ipython",
    "version": 3
   },
   "file_extension": ".py",
   "mimetype": "text/x-python",
   "name": "python",
   "nbconvert_exporter": "python",
   "pygments_lexer": "ipython3",
   "version": "3.9.13"
  }
 },
 "nbformat": 4,
 "nbformat_minor": 5
}
